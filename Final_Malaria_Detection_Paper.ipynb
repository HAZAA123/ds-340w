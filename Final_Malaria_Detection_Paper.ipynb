{
  "nbformat": 4,
  "nbformat_minor": 0,
  "metadata": {
    "colab": {
      "provenance": [],
      "machine_shape": "hm"
    },
    "kernelspec": {
      "name": "python3",
      "display_name": "Python 3"
    },
    "language_info": {
      "name": "python"
    },
    "accelerator": "GPU",
    "gpuClass": "standard",
    "widgets": {
      "application/vnd.jupyter.widget-state+json": {
        "13e7959b775a45d1a57614054d801f97": {
          "model_module": "@jupyter-widgets/controls",
          "model_name": "HBoxModel",
          "model_module_version": "1.5.0",
          "state": {
            "_dom_classes": [],
            "_model_module": "@jupyter-widgets/controls",
            "_model_module_version": "1.5.0",
            "_model_name": "HBoxModel",
            "_view_count": null,
            "_view_module": "@jupyter-widgets/controls",
            "_view_module_version": "1.5.0",
            "_view_name": "HBoxView",
            "box_style": "",
            "children": [
              "IPY_MODEL_53356b0c9c49423f9c320b63a5558f57",
              "IPY_MODEL_2986f389e2d745eea456739867e36bac",
              "IPY_MODEL_5116d2f60816418590c91ebbc3ddc239"
            ],
            "layout": "IPY_MODEL_ed5d814f93b348deae29a26f9f1f9260"
          }
        },
        "53356b0c9c49423f9c320b63a5558f57": {
          "model_module": "@jupyter-widgets/controls",
          "model_name": "HTMLModel",
          "model_module_version": "1.5.0",
          "state": {
            "_dom_classes": [],
            "_model_module": "@jupyter-widgets/controls",
            "_model_module_version": "1.5.0",
            "_model_name": "HTMLModel",
            "_view_count": null,
            "_view_module": "@jupyter-widgets/controls",
            "_view_module_version": "1.5.0",
            "_view_name": "HTMLView",
            "description": "",
            "description_tooltip": null,
            "layout": "IPY_MODEL_29643672061f4f96b890c6eef7162a84",
            "placeholder": "​",
            "style": "IPY_MODEL_2ca89a9bc7484856b142f0c2ec5e3a00",
            "value": "Dl Completed...: 100%"
          }
        },
        "2986f389e2d745eea456739867e36bac": {
          "model_module": "@jupyter-widgets/controls",
          "model_name": "FloatProgressModel",
          "model_module_version": "1.5.0",
          "state": {
            "_dom_classes": [],
            "_model_module": "@jupyter-widgets/controls",
            "_model_module_version": "1.5.0",
            "_model_name": "FloatProgressModel",
            "_view_count": null,
            "_view_module": "@jupyter-widgets/controls",
            "_view_module_version": "1.5.0",
            "_view_name": "ProgressView",
            "bar_style": "info",
            "description": "",
            "description_tooltip": null,
            "layout": "IPY_MODEL_37d64412519f476a8b062f16922a9401",
            "max": 1,
            "min": 0,
            "orientation": "horizontal",
            "style": "IPY_MODEL_99180c057c3d4fd9821603735e84cd09",
            "value": 1
          }
        },
        "5116d2f60816418590c91ebbc3ddc239": {
          "model_module": "@jupyter-widgets/controls",
          "model_name": "HTMLModel",
          "model_module_version": "1.5.0",
          "state": {
            "_dom_classes": [],
            "_model_module": "@jupyter-widgets/controls",
            "_model_module_version": "1.5.0",
            "_model_name": "HTMLModel",
            "_view_count": null,
            "_view_module": "@jupyter-widgets/controls",
            "_view_module_version": "1.5.0",
            "_view_name": "HTMLView",
            "description": "",
            "description_tooltip": null,
            "layout": "IPY_MODEL_78c0dc9625384a52bfe77eb42ee93ece",
            "placeholder": "​",
            "style": "IPY_MODEL_b40b10dfa5c4469ab366d749539d1044",
            "value": " 1/1 [01:06&lt;00:00,  5.17s/ url]"
          }
        },
        "ed5d814f93b348deae29a26f9f1f9260": {
          "model_module": "@jupyter-widgets/base",
          "model_name": "LayoutModel",
          "model_module_version": "1.2.0",
          "state": {
            "_model_module": "@jupyter-widgets/base",
            "_model_module_version": "1.2.0",
            "_model_name": "LayoutModel",
            "_view_count": null,
            "_view_module": "@jupyter-widgets/base",
            "_view_module_version": "1.2.0",
            "_view_name": "LayoutView",
            "align_content": null,
            "align_items": null,
            "align_self": null,
            "border": null,
            "bottom": null,
            "display": null,
            "flex": null,
            "flex_flow": null,
            "grid_area": null,
            "grid_auto_columns": null,
            "grid_auto_flow": null,
            "grid_auto_rows": null,
            "grid_column": null,
            "grid_gap": null,
            "grid_row": null,
            "grid_template_areas": null,
            "grid_template_columns": null,
            "grid_template_rows": null,
            "height": null,
            "justify_content": null,
            "justify_items": null,
            "left": null,
            "margin": null,
            "max_height": null,
            "max_width": null,
            "min_height": null,
            "min_width": null,
            "object_fit": null,
            "object_position": null,
            "order": null,
            "overflow": null,
            "overflow_x": null,
            "overflow_y": null,
            "padding": null,
            "right": null,
            "top": null,
            "visibility": null,
            "width": null
          }
        },
        "29643672061f4f96b890c6eef7162a84": {
          "model_module": "@jupyter-widgets/base",
          "model_name": "LayoutModel",
          "model_module_version": "1.2.0",
          "state": {
            "_model_module": "@jupyter-widgets/base",
            "_model_module_version": "1.2.0",
            "_model_name": "LayoutModel",
            "_view_count": null,
            "_view_module": "@jupyter-widgets/base",
            "_view_module_version": "1.2.0",
            "_view_name": "LayoutView",
            "align_content": null,
            "align_items": null,
            "align_self": null,
            "border": null,
            "bottom": null,
            "display": null,
            "flex": null,
            "flex_flow": null,
            "grid_area": null,
            "grid_auto_columns": null,
            "grid_auto_flow": null,
            "grid_auto_rows": null,
            "grid_column": null,
            "grid_gap": null,
            "grid_row": null,
            "grid_template_areas": null,
            "grid_template_columns": null,
            "grid_template_rows": null,
            "height": null,
            "justify_content": null,
            "justify_items": null,
            "left": null,
            "margin": null,
            "max_height": null,
            "max_width": null,
            "min_height": null,
            "min_width": null,
            "object_fit": null,
            "object_position": null,
            "order": null,
            "overflow": null,
            "overflow_x": null,
            "overflow_y": null,
            "padding": null,
            "right": null,
            "top": null,
            "visibility": null,
            "width": null
          }
        },
        "2ca89a9bc7484856b142f0c2ec5e3a00": {
          "model_module": "@jupyter-widgets/controls",
          "model_name": "DescriptionStyleModel",
          "model_module_version": "1.5.0",
          "state": {
            "_model_module": "@jupyter-widgets/controls",
            "_model_module_version": "1.5.0",
            "_model_name": "DescriptionStyleModel",
            "_view_count": null,
            "_view_module": "@jupyter-widgets/base",
            "_view_module_version": "1.2.0",
            "_view_name": "StyleView",
            "description_width": ""
          }
        },
        "37d64412519f476a8b062f16922a9401": {
          "model_module": "@jupyter-widgets/base",
          "model_name": "LayoutModel",
          "model_module_version": "1.2.0",
          "state": {
            "_model_module": "@jupyter-widgets/base",
            "_model_module_version": "1.2.0",
            "_model_name": "LayoutModel",
            "_view_count": null,
            "_view_module": "@jupyter-widgets/base",
            "_view_module_version": "1.2.0",
            "_view_name": "LayoutView",
            "align_content": null,
            "align_items": null,
            "align_self": null,
            "border": null,
            "bottom": null,
            "display": null,
            "flex": null,
            "flex_flow": null,
            "grid_area": null,
            "grid_auto_columns": null,
            "grid_auto_flow": null,
            "grid_auto_rows": null,
            "grid_column": null,
            "grid_gap": null,
            "grid_row": null,
            "grid_template_areas": null,
            "grid_template_columns": null,
            "grid_template_rows": null,
            "height": null,
            "justify_content": null,
            "justify_items": null,
            "left": null,
            "margin": null,
            "max_height": null,
            "max_width": null,
            "min_height": null,
            "min_width": null,
            "object_fit": null,
            "object_position": null,
            "order": null,
            "overflow": null,
            "overflow_x": null,
            "overflow_y": null,
            "padding": null,
            "right": null,
            "top": null,
            "visibility": null,
            "width": "20px"
          }
        },
        "99180c057c3d4fd9821603735e84cd09": {
          "model_module": "@jupyter-widgets/controls",
          "model_name": "ProgressStyleModel",
          "model_module_version": "1.5.0",
          "state": {
            "_model_module": "@jupyter-widgets/controls",
            "_model_module_version": "1.5.0",
            "_model_name": "ProgressStyleModel",
            "_view_count": null,
            "_view_module": "@jupyter-widgets/base",
            "_view_module_version": "1.2.0",
            "_view_name": "StyleView",
            "bar_color": null,
            "description_width": ""
          }
        },
        "78c0dc9625384a52bfe77eb42ee93ece": {
          "model_module": "@jupyter-widgets/base",
          "model_name": "LayoutModel",
          "model_module_version": "1.2.0",
          "state": {
            "_model_module": "@jupyter-widgets/base",
            "_model_module_version": "1.2.0",
            "_model_name": "LayoutModel",
            "_view_count": null,
            "_view_module": "@jupyter-widgets/base",
            "_view_module_version": "1.2.0",
            "_view_name": "LayoutView",
            "align_content": null,
            "align_items": null,
            "align_self": null,
            "border": null,
            "bottom": null,
            "display": null,
            "flex": null,
            "flex_flow": null,
            "grid_area": null,
            "grid_auto_columns": null,
            "grid_auto_flow": null,
            "grid_auto_rows": null,
            "grid_column": null,
            "grid_gap": null,
            "grid_row": null,
            "grid_template_areas": null,
            "grid_template_columns": null,
            "grid_template_rows": null,
            "height": null,
            "justify_content": null,
            "justify_items": null,
            "left": null,
            "margin": null,
            "max_height": null,
            "max_width": null,
            "min_height": null,
            "min_width": null,
            "object_fit": null,
            "object_position": null,
            "order": null,
            "overflow": null,
            "overflow_x": null,
            "overflow_y": null,
            "padding": null,
            "right": null,
            "top": null,
            "visibility": null,
            "width": null
          }
        },
        "b40b10dfa5c4469ab366d749539d1044": {
          "model_module": "@jupyter-widgets/controls",
          "model_name": "DescriptionStyleModel",
          "model_module_version": "1.5.0",
          "state": {
            "_model_module": "@jupyter-widgets/controls",
            "_model_module_version": "1.5.0",
            "_model_name": "DescriptionStyleModel",
            "_view_count": null,
            "_view_module": "@jupyter-widgets/base",
            "_view_module_version": "1.2.0",
            "_view_name": "StyleView",
            "description_width": ""
          }
        },
        "21239dc3099841d292206be5d9c2255f": {
          "model_module": "@jupyter-widgets/controls",
          "model_name": "HBoxModel",
          "model_module_version": "1.5.0",
          "state": {
            "_dom_classes": [],
            "_model_module": "@jupyter-widgets/controls",
            "_model_module_version": "1.5.0",
            "_model_name": "HBoxModel",
            "_view_count": null,
            "_view_module": "@jupyter-widgets/controls",
            "_view_module_version": "1.5.0",
            "_view_name": "HBoxView",
            "box_style": "",
            "children": [
              "IPY_MODEL_e8c9278a69f045c4b682cfeeb69cebf8",
              "IPY_MODEL_450e0432ebe744938f906afce8b73e5b",
              "IPY_MODEL_a4b84ee5472f4bfdb6c04a5065a12cd8"
            ],
            "layout": "IPY_MODEL_16003385a5f74136a4affa3ef930dcba"
          }
        },
        "e8c9278a69f045c4b682cfeeb69cebf8": {
          "model_module": "@jupyter-widgets/controls",
          "model_name": "HTMLModel",
          "model_module_version": "1.5.0",
          "state": {
            "_dom_classes": [],
            "_model_module": "@jupyter-widgets/controls",
            "_model_module_version": "1.5.0",
            "_model_name": "HTMLModel",
            "_view_count": null,
            "_view_module": "@jupyter-widgets/controls",
            "_view_module_version": "1.5.0",
            "_view_name": "HTMLView",
            "description": "",
            "description_tooltip": null,
            "layout": "IPY_MODEL_b86f61c357344a10b061acd208d4c2b7",
            "placeholder": "​",
            "style": "IPY_MODEL_abd8f1f443564aa8a0a35b0832b159a1",
            "value": "Dl Size...: 100%"
          }
        },
        "450e0432ebe744938f906afce8b73e5b": {
          "model_module": "@jupyter-widgets/controls",
          "model_name": "FloatProgressModel",
          "model_module_version": "1.5.0",
          "state": {
            "_dom_classes": [],
            "_model_module": "@jupyter-widgets/controls",
            "_model_module_version": "1.5.0",
            "_model_name": "FloatProgressModel",
            "_view_count": null,
            "_view_module": "@jupyter-widgets/controls",
            "_view_module_version": "1.5.0",
            "_view_name": "ProgressView",
            "bar_style": "info",
            "description": "",
            "description_tooltip": null,
            "layout": "IPY_MODEL_ca2b9e8da410433c9473d81a069996c9",
            "max": 1,
            "min": 0,
            "orientation": "horizontal",
            "style": "IPY_MODEL_a01f4cc921b14d70ab89b3f6827efcea",
            "value": 1
          }
        },
        "a4b84ee5472f4bfdb6c04a5065a12cd8": {
          "model_module": "@jupyter-widgets/controls",
          "model_name": "HTMLModel",
          "model_module_version": "1.5.0",
          "state": {
            "_dom_classes": [],
            "_model_module": "@jupyter-widgets/controls",
            "_model_module_version": "1.5.0",
            "_model_name": "HTMLModel",
            "_view_count": null,
            "_view_module": "@jupyter-widgets/controls",
            "_view_module_version": "1.5.0",
            "_view_name": "HTMLView",
            "description": "",
            "description_tooltip": null,
            "layout": "IPY_MODEL_9c4e005edda3413ab840c6193866ad55",
            "placeholder": "​",
            "style": "IPY_MODEL_77935e7791bf48399092df39536f2ae4",
            "value": " 337/337 [01:06&lt;00:00, 85.70 MiB/s]"
          }
        },
        "16003385a5f74136a4affa3ef930dcba": {
          "model_module": "@jupyter-widgets/base",
          "model_name": "LayoutModel",
          "model_module_version": "1.2.0",
          "state": {
            "_model_module": "@jupyter-widgets/base",
            "_model_module_version": "1.2.0",
            "_model_name": "LayoutModel",
            "_view_count": null,
            "_view_module": "@jupyter-widgets/base",
            "_view_module_version": "1.2.0",
            "_view_name": "LayoutView",
            "align_content": null,
            "align_items": null,
            "align_self": null,
            "border": null,
            "bottom": null,
            "display": null,
            "flex": null,
            "flex_flow": null,
            "grid_area": null,
            "grid_auto_columns": null,
            "grid_auto_flow": null,
            "grid_auto_rows": null,
            "grid_column": null,
            "grid_gap": null,
            "grid_row": null,
            "grid_template_areas": null,
            "grid_template_columns": null,
            "grid_template_rows": null,
            "height": null,
            "justify_content": null,
            "justify_items": null,
            "left": null,
            "margin": null,
            "max_height": null,
            "max_width": null,
            "min_height": null,
            "min_width": null,
            "object_fit": null,
            "object_position": null,
            "order": null,
            "overflow": null,
            "overflow_x": null,
            "overflow_y": null,
            "padding": null,
            "right": null,
            "top": null,
            "visibility": null,
            "width": null
          }
        },
        "b86f61c357344a10b061acd208d4c2b7": {
          "model_module": "@jupyter-widgets/base",
          "model_name": "LayoutModel",
          "model_module_version": "1.2.0",
          "state": {
            "_model_module": "@jupyter-widgets/base",
            "_model_module_version": "1.2.0",
            "_model_name": "LayoutModel",
            "_view_count": null,
            "_view_module": "@jupyter-widgets/base",
            "_view_module_version": "1.2.0",
            "_view_name": "LayoutView",
            "align_content": null,
            "align_items": null,
            "align_self": null,
            "border": null,
            "bottom": null,
            "display": null,
            "flex": null,
            "flex_flow": null,
            "grid_area": null,
            "grid_auto_columns": null,
            "grid_auto_flow": null,
            "grid_auto_rows": null,
            "grid_column": null,
            "grid_gap": null,
            "grid_row": null,
            "grid_template_areas": null,
            "grid_template_columns": null,
            "grid_template_rows": null,
            "height": null,
            "justify_content": null,
            "justify_items": null,
            "left": null,
            "margin": null,
            "max_height": null,
            "max_width": null,
            "min_height": null,
            "min_width": null,
            "object_fit": null,
            "object_position": null,
            "order": null,
            "overflow": null,
            "overflow_x": null,
            "overflow_y": null,
            "padding": null,
            "right": null,
            "top": null,
            "visibility": null,
            "width": null
          }
        },
        "abd8f1f443564aa8a0a35b0832b159a1": {
          "model_module": "@jupyter-widgets/controls",
          "model_name": "DescriptionStyleModel",
          "model_module_version": "1.5.0",
          "state": {
            "_model_module": "@jupyter-widgets/controls",
            "_model_module_version": "1.5.0",
            "_model_name": "DescriptionStyleModel",
            "_view_count": null,
            "_view_module": "@jupyter-widgets/base",
            "_view_module_version": "1.2.0",
            "_view_name": "StyleView",
            "description_width": ""
          }
        },
        "ca2b9e8da410433c9473d81a069996c9": {
          "model_module": "@jupyter-widgets/base",
          "model_name": "LayoutModel",
          "model_module_version": "1.2.0",
          "state": {
            "_model_module": "@jupyter-widgets/base",
            "_model_module_version": "1.2.0",
            "_model_name": "LayoutModel",
            "_view_count": null,
            "_view_module": "@jupyter-widgets/base",
            "_view_module_version": "1.2.0",
            "_view_name": "LayoutView",
            "align_content": null,
            "align_items": null,
            "align_self": null,
            "border": null,
            "bottom": null,
            "display": null,
            "flex": null,
            "flex_flow": null,
            "grid_area": null,
            "grid_auto_columns": null,
            "grid_auto_flow": null,
            "grid_auto_rows": null,
            "grid_column": null,
            "grid_gap": null,
            "grid_row": null,
            "grid_template_areas": null,
            "grid_template_columns": null,
            "grid_template_rows": null,
            "height": null,
            "justify_content": null,
            "justify_items": null,
            "left": null,
            "margin": null,
            "max_height": null,
            "max_width": null,
            "min_height": null,
            "min_width": null,
            "object_fit": null,
            "object_position": null,
            "order": null,
            "overflow": null,
            "overflow_x": null,
            "overflow_y": null,
            "padding": null,
            "right": null,
            "top": null,
            "visibility": null,
            "width": "20px"
          }
        },
        "a01f4cc921b14d70ab89b3f6827efcea": {
          "model_module": "@jupyter-widgets/controls",
          "model_name": "ProgressStyleModel",
          "model_module_version": "1.5.0",
          "state": {
            "_model_module": "@jupyter-widgets/controls",
            "_model_module_version": "1.5.0",
            "_model_name": "ProgressStyleModel",
            "_view_count": null,
            "_view_module": "@jupyter-widgets/base",
            "_view_module_version": "1.2.0",
            "_view_name": "StyleView",
            "bar_color": null,
            "description_width": ""
          }
        },
        "9c4e005edda3413ab840c6193866ad55": {
          "model_module": "@jupyter-widgets/base",
          "model_name": "LayoutModel",
          "model_module_version": "1.2.0",
          "state": {
            "_model_module": "@jupyter-widgets/base",
            "_model_module_version": "1.2.0",
            "_model_name": "LayoutModel",
            "_view_count": null,
            "_view_module": "@jupyter-widgets/base",
            "_view_module_version": "1.2.0",
            "_view_name": "LayoutView",
            "align_content": null,
            "align_items": null,
            "align_self": null,
            "border": null,
            "bottom": null,
            "display": null,
            "flex": null,
            "flex_flow": null,
            "grid_area": null,
            "grid_auto_columns": null,
            "grid_auto_flow": null,
            "grid_auto_rows": null,
            "grid_column": null,
            "grid_gap": null,
            "grid_row": null,
            "grid_template_areas": null,
            "grid_template_columns": null,
            "grid_template_rows": null,
            "height": null,
            "justify_content": null,
            "justify_items": null,
            "left": null,
            "margin": null,
            "max_height": null,
            "max_width": null,
            "min_height": null,
            "min_width": null,
            "object_fit": null,
            "object_position": null,
            "order": null,
            "overflow": null,
            "overflow_x": null,
            "overflow_y": null,
            "padding": null,
            "right": null,
            "top": null,
            "visibility": null,
            "width": null
          }
        },
        "77935e7791bf48399092df39536f2ae4": {
          "model_module": "@jupyter-widgets/controls",
          "model_name": "DescriptionStyleModel",
          "model_module_version": "1.5.0",
          "state": {
            "_model_module": "@jupyter-widgets/controls",
            "_model_module_version": "1.5.0",
            "_model_name": "DescriptionStyleModel",
            "_view_count": null,
            "_view_module": "@jupyter-widgets/base",
            "_view_module_version": "1.2.0",
            "_view_name": "StyleView",
            "description_width": ""
          }
        },
        "9dbe3139ed114ccf9fc207e642a56e57": {
          "model_module": "@jupyter-widgets/controls",
          "model_name": "HBoxModel",
          "model_module_version": "1.5.0",
          "state": {
            "_dom_classes": [],
            "_model_module": "@jupyter-widgets/controls",
            "_model_module_version": "1.5.0",
            "_model_name": "HBoxModel",
            "_view_count": null,
            "_view_module": "@jupyter-widgets/controls",
            "_view_module_version": "1.5.0",
            "_view_name": "HBoxView",
            "box_style": "",
            "children": [
              "IPY_MODEL_b961d9f4e2614dec842af176e7986a31",
              "IPY_MODEL_e437826b33e443549fb5b46adcfa400b",
              "IPY_MODEL_ee9c2fb7341d46f687f0fc394ea7872e"
            ],
            "layout": "IPY_MODEL_cd2a14a4d6904a3cadbacec0e9ebd1ad"
          }
        },
        "b961d9f4e2614dec842af176e7986a31": {
          "model_module": "@jupyter-widgets/controls",
          "model_name": "HTMLModel",
          "model_module_version": "1.5.0",
          "state": {
            "_dom_classes": [],
            "_model_module": "@jupyter-widgets/controls",
            "_model_module_version": "1.5.0",
            "_model_name": "HTMLModel",
            "_view_count": null,
            "_view_module": "@jupyter-widgets/controls",
            "_view_module_version": "1.5.0",
            "_view_name": "HTMLView",
            "description": "",
            "description_tooltip": null,
            "layout": "IPY_MODEL_0a6703c468b948f79c68700468f02656",
            "placeholder": "​",
            "style": "IPY_MODEL_23c4315170ed46b3a4d3eb2cb6ec4652",
            "value": "Extraction completed...:  99%"
          }
        },
        "e437826b33e443549fb5b46adcfa400b": {
          "model_module": "@jupyter-widgets/controls",
          "model_name": "FloatProgressModel",
          "model_module_version": "1.5.0",
          "state": {
            "_dom_classes": [],
            "_model_module": "@jupyter-widgets/controls",
            "_model_module_version": "1.5.0",
            "_model_name": "FloatProgressModel",
            "_view_count": null,
            "_view_module": "@jupyter-widgets/controls",
            "_view_module_version": "1.5.0",
            "_view_name": "ProgressView",
            "bar_style": "info",
            "description": "",
            "description_tooltip": null,
            "layout": "IPY_MODEL_f9274a312c954a07af41b296eb3b3ddd",
            "max": 1,
            "min": 0,
            "orientation": "horizontal",
            "style": "IPY_MODEL_4e317669d4b84ae7a749a4b50b9c70fc",
            "value": 1
          }
        },
        "ee9c2fb7341d46f687f0fc394ea7872e": {
          "model_module": "@jupyter-widgets/controls",
          "model_name": "HTMLModel",
          "model_module_version": "1.5.0",
          "state": {
            "_dom_classes": [],
            "_model_module": "@jupyter-widgets/controls",
            "_model_module_version": "1.5.0",
            "_model_name": "HTMLModel",
            "_view_count": null,
            "_view_module": "@jupyter-widgets/controls",
            "_view_module_version": "1.5.0",
            "_view_name": "HTMLView",
            "description": "",
            "description_tooltip": null,
            "layout": "IPY_MODEL_d96807447ce348c18f0017f2e72af296",
            "placeholder": "​",
            "style": "IPY_MODEL_8a8126b1960345c083d5ce4d725722f5",
            "value": " 27187/27560 [01:06&lt;00:00, 1676.68 file/s]"
          }
        },
        "cd2a14a4d6904a3cadbacec0e9ebd1ad": {
          "model_module": "@jupyter-widgets/base",
          "model_name": "LayoutModel",
          "model_module_version": "1.2.0",
          "state": {
            "_model_module": "@jupyter-widgets/base",
            "_model_module_version": "1.2.0",
            "_model_name": "LayoutModel",
            "_view_count": null,
            "_view_module": "@jupyter-widgets/base",
            "_view_module_version": "1.2.0",
            "_view_name": "LayoutView",
            "align_content": null,
            "align_items": null,
            "align_self": null,
            "border": null,
            "bottom": null,
            "display": null,
            "flex": null,
            "flex_flow": null,
            "grid_area": null,
            "grid_auto_columns": null,
            "grid_auto_flow": null,
            "grid_auto_rows": null,
            "grid_column": null,
            "grid_gap": null,
            "grid_row": null,
            "grid_template_areas": null,
            "grid_template_columns": null,
            "grid_template_rows": null,
            "height": null,
            "justify_content": null,
            "justify_items": null,
            "left": null,
            "margin": null,
            "max_height": null,
            "max_width": null,
            "min_height": null,
            "min_width": null,
            "object_fit": null,
            "object_position": null,
            "order": null,
            "overflow": null,
            "overflow_x": null,
            "overflow_y": null,
            "padding": null,
            "right": null,
            "top": null,
            "visibility": null,
            "width": null
          }
        },
        "0a6703c468b948f79c68700468f02656": {
          "model_module": "@jupyter-widgets/base",
          "model_name": "LayoutModel",
          "model_module_version": "1.2.0",
          "state": {
            "_model_module": "@jupyter-widgets/base",
            "_model_module_version": "1.2.0",
            "_model_name": "LayoutModel",
            "_view_count": null,
            "_view_module": "@jupyter-widgets/base",
            "_view_module_version": "1.2.0",
            "_view_name": "LayoutView",
            "align_content": null,
            "align_items": null,
            "align_self": null,
            "border": null,
            "bottom": null,
            "display": null,
            "flex": null,
            "flex_flow": null,
            "grid_area": null,
            "grid_auto_columns": null,
            "grid_auto_flow": null,
            "grid_auto_rows": null,
            "grid_column": null,
            "grid_gap": null,
            "grid_row": null,
            "grid_template_areas": null,
            "grid_template_columns": null,
            "grid_template_rows": null,
            "height": null,
            "justify_content": null,
            "justify_items": null,
            "left": null,
            "margin": null,
            "max_height": null,
            "max_width": null,
            "min_height": null,
            "min_width": null,
            "object_fit": null,
            "object_position": null,
            "order": null,
            "overflow": null,
            "overflow_x": null,
            "overflow_y": null,
            "padding": null,
            "right": null,
            "top": null,
            "visibility": null,
            "width": null
          }
        },
        "23c4315170ed46b3a4d3eb2cb6ec4652": {
          "model_module": "@jupyter-widgets/controls",
          "model_name": "DescriptionStyleModel",
          "model_module_version": "1.5.0",
          "state": {
            "_model_module": "@jupyter-widgets/controls",
            "_model_module_version": "1.5.0",
            "_model_name": "DescriptionStyleModel",
            "_view_count": null,
            "_view_module": "@jupyter-widgets/base",
            "_view_module_version": "1.2.0",
            "_view_name": "StyleView",
            "description_width": ""
          }
        },
        "f9274a312c954a07af41b296eb3b3ddd": {
          "model_module": "@jupyter-widgets/base",
          "model_name": "LayoutModel",
          "model_module_version": "1.2.0",
          "state": {
            "_model_module": "@jupyter-widgets/base",
            "_model_module_version": "1.2.0",
            "_model_name": "LayoutModel",
            "_view_count": null,
            "_view_module": "@jupyter-widgets/base",
            "_view_module_version": "1.2.0",
            "_view_name": "LayoutView",
            "align_content": null,
            "align_items": null,
            "align_self": null,
            "border": null,
            "bottom": null,
            "display": null,
            "flex": null,
            "flex_flow": null,
            "grid_area": null,
            "grid_auto_columns": null,
            "grid_auto_flow": null,
            "grid_auto_rows": null,
            "grid_column": null,
            "grid_gap": null,
            "grid_row": null,
            "grid_template_areas": null,
            "grid_template_columns": null,
            "grid_template_rows": null,
            "height": null,
            "justify_content": null,
            "justify_items": null,
            "left": null,
            "margin": null,
            "max_height": null,
            "max_width": null,
            "min_height": null,
            "min_width": null,
            "object_fit": null,
            "object_position": null,
            "order": null,
            "overflow": null,
            "overflow_x": null,
            "overflow_y": null,
            "padding": null,
            "right": null,
            "top": null,
            "visibility": null,
            "width": "20px"
          }
        },
        "4e317669d4b84ae7a749a4b50b9c70fc": {
          "model_module": "@jupyter-widgets/controls",
          "model_name": "ProgressStyleModel",
          "model_module_version": "1.5.0",
          "state": {
            "_model_module": "@jupyter-widgets/controls",
            "_model_module_version": "1.5.0",
            "_model_name": "ProgressStyleModel",
            "_view_count": null,
            "_view_module": "@jupyter-widgets/base",
            "_view_module_version": "1.2.0",
            "_view_name": "StyleView",
            "bar_color": null,
            "description_width": ""
          }
        },
        "d96807447ce348c18f0017f2e72af296": {
          "model_module": "@jupyter-widgets/base",
          "model_name": "LayoutModel",
          "model_module_version": "1.2.0",
          "state": {
            "_model_module": "@jupyter-widgets/base",
            "_model_module_version": "1.2.0",
            "_model_name": "LayoutModel",
            "_view_count": null,
            "_view_module": "@jupyter-widgets/base",
            "_view_module_version": "1.2.0",
            "_view_name": "LayoutView",
            "align_content": null,
            "align_items": null,
            "align_self": null,
            "border": null,
            "bottom": null,
            "display": null,
            "flex": null,
            "flex_flow": null,
            "grid_area": null,
            "grid_auto_columns": null,
            "grid_auto_flow": null,
            "grid_auto_rows": null,
            "grid_column": null,
            "grid_gap": null,
            "grid_row": null,
            "grid_template_areas": null,
            "grid_template_columns": null,
            "grid_template_rows": null,
            "height": null,
            "justify_content": null,
            "justify_items": null,
            "left": null,
            "margin": null,
            "max_height": null,
            "max_width": null,
            "min_height": null,
            "min_width": null,
            "object_fit": null,
            "object_position": null,
            "order": null,
            "overflow": null,
            "overflow_x": null,
            "overflow_y": null,
            "padding": null,
            "right": null,
            "top": null,
            "visibility": null,
            "width": null
          }
        },
        "8a8126b1960345c083d5ce4d725722f5": {
          "model_module": "@jupyter-widgets/controls",
          "model_name": "DescriptionStyleModel",
          "model_module_version": "1.5.0",
          "state": {
            "_model_module": "@jupyter-widgets/controls",
            "_model_module_version": "1.5.0",
            "_model_name": "DescriptionStyleModel",
            "_view_count": null,
            "_view_module": "@jupyter-widgets/base",
            "_view_module_version": "1.2.0",
            "_view_name": "StyleView",
            "description_width": ""
          }
        },
        "a012e7a1509a4cfd8bfe4b2ce10b3426": {
          "model_module": "@jupyter-widgets/controls",
          "model_name": "HBoxModel",
          "model_module_version": "1.5.0",
          "state": {
            "_dom_classes": [],
            "_model_module": "@jupyter-widgets/controls",
            "_model_module_version": "1.5.0",
            "_model_name": "HBoxModel",
            "_view_count": null,
            "_view_module": "@jupyter-widgets/controls",
            "_view_module_version": "1.5.0",
            "_view_name": "HBoxView",
            "box_style": "",
            "children": [
              "IPY_MODEL_57cfd89e31e143859b4ee7899b09700e",
              "IPY_MODEL_9490680e1d8b45949bca71d95192dbd1",
              "IPY_MODEL_1d2035092d0c490197e139c57e63effa"
            ],
            "layout": "IPY_MODEL_cbd2fd2c2565415393928faf8ed74c68"
          }
        },
        "57cfd89e31e143859b4ee7899b09700e": {
          "model_module": "@jupyter-widgets/controls",
          "model_name": "HTMLModel",
          "model_module_version": "1.5.0",
          "state": {
            "_dom_classes": [],
            "_model_module": "@jupyter-widgets/controls",
            "_model_module_version": "1.5.0",
            "_model_name": "HTMLModel",
            "_view_count": null,
            "_view_module": "@jupyter-widgets/controls",
            "_view_module_version": "1.5.0",
            "_view_name": "HTMLView",
            "description": "",
            "description_tooltip": null,
            "layout": "IPY_MODEL_1acba6202ded4d118dfcb9f4869f5a46",
            "placeholder": "​",
            "style": "IPY_MODEL_77c5e72b2f9c42aa80987dd7b53fd66c",
            "value": "Shuffling /root/tensorflow_datasets/malaria/1.0.0.incompleteKJIDYX/malaria-train.tfrecord*...:  98%"
          }
        },
        "9490680e1d8b45949bca71d95192dbd1": {
          "model_module": "@jupyter-widgets/controls",
          "model_name": "FloatProgressModel",
          "model_module_version": "1.5.0",
          "state": {
            "_dom_classes": [],
            "_model_module": "@jupyter-widgets/controls",
            "_model_module_version": "1.5.0",
            "_model_name": "FloatProgressModel",
            "_view_count": null,
            "_view_module": "@jupyter-widgets/controls",
            "_view_module_version": "1.5.0",
            "_view_name": "ProgressView",
            "bar_style": "",
            "description": "",
            "description_tooltip": null,
            "layout": "IPY_MODEL_9ca7b249129f45228b86123bfde4b5c5",
            "max": 27558,
            "min": 0,
            "orientation": "horizontal",
            "style": "IPY_MODEL_1c840c5b4aa144f68c374ec41151498d",
            "value": 27558
          }
        },
        "1d2035092d0c490197e139c57e63effa": {
          "model_module": "@jupyter-widgets/controls",
          "model_name": "HTMLModel",
          "model_module_version": "1.5.0",
          "state": {
            "_dom_classes": [],
            "_model_module": "@jupyter-widgets/controls",
            "_model_module_version": "1.5.0",
            "_model_name": "HTMLModel",
            "_view_count": null,
            "_view_module": "@jupyter-widgets/controls",
            "_view_module_version": "1.5.0",
            "_view_name": "HTMLView",
            "description": "",
            "description_tooltip": null,
            "layout": "IPY_MODEL_aa856421b61147c8a5924f4c210ac5eb",
            "placeholder": "​",
            "style": "IPY_MODEL_e222b27fad7b419da1bc0aa1c3a6908a",
            "value": " 26917/27558 [00:00&lt;00:00, 64950.21 examples/s]"
          }
        },
        "cbd2fd2c2565415393928faf8ed74c68": {
          "model_module": "@jupyter-widgets/base",
          "model_name": "LayoutModel",
          "model_module_version": "1.2.0",
          "state": {
            "_model_module": "@jupyter-widgets/base",
            "_model_module_version": "1.2.0",
            "_model_name": "LayoutModel",
            "_view_count": null,
            "_view_module": "@jupyter-widgets/base",
            "_view_module_version": "1.2.0",
            "_view_name": "LayoutView",
            "align_content": null,
            "align_items": null,
            "align_self": null,
            "border": null,
            "bottom": null,
            "display": null,
            "flex": null,
            "flex_flow": null,
            "grid_area": null,
            "grid_auto_columns": null,
            "grid_auto_flow": null,
            "grid_auto_rows": null,
            "grid_column": null,
            "grid_gap": null,
            "grid_row": null,
            "grid_template_areas": null,
            "grid_template_columns": null,
            "grid_template_rows": null,
            "height": null,
            "justify_content": null,
            "justify_items": null,
            "left": null,
            "margin": null,
            "max_height": null,
            "max_width": null,
            "min_height": null,
            "min_width": null,
            "object_fit": null,
            "object_position": null,
            "order": null,
            "overflow": null,
            "overflow_x": null,
            "overflow_y": null,
            "padding": null,
            "right": null,
            "top": null,
            "visibility": "hidden",
            "width": null
          }
        },
        "1acba6202ded4d118dfcb9f4869f5a46": {
          "model_module": "@jupyter-widgets/base",
          "model_name": "LayoutModel",
          "model_module_version": "1.2.0",
          "state": {
            "_model_module": "@jupyter-widgets/base",
            "_model_module_version": "1.2.0",
            "_model_name": "LayoutModel",
            "_view_count": null,
            "_view_module": "@jupyter-widgets/base",
            "_view_module_version": "1.2.0",
            "_view_name": "LayoutView",
            "align_content": null,
            "align_items": null,
            "align_self": null,
            "border": null,
            "bottom": null,
            "display": null,
            "flex": null,
            "flex_flow": null,
            "grid_area": null,
            "grid_auto_columns": null,
            "grid_auto_flow": null,
            "grid_auto_rows": null,
            "grid_column": null,
            "grid_gap": null,
            "grid_row": null,
            "grid_template_areas": null,
            "grid_template_columns": null,
            "grid_template_rows": null,
            "height": null,
            "justify_content": null,
            "justify_items": null,
            "left": null,
            "margin": null,
            "max_height": null,
            "max_width": null,
            "min_height": null,
            "min_width": null,
            "object_fit": null,
            "object_position": null,
            "order": null,
            "overflow": null,
            "overflow_x": null,
            "overflow_y": null,
            "padding": null,
            "right": null,
            "top": null,
            "visibility": null,
            "width": null
          }
        },
        "77c5e72b2f9c42aa80987dd7b53fd66c": {
          "model_module": "@jupyter-widgets/controls",
          "model_name": "DescriptionStyleModel",
          "model_module_version": "1.5.0",
          "state": {
            "_model_module": "@jupyter-widgets/controls",
            "_model_module_version": "1.5.0",
            "_model_name": "DescriptionStyleModel",
            "_view_count": null,
            "_view_module": "@jupyter-widgets/base",
            "_view_module_version": "1.2.0",
            "_view_name": "StyleView",
            "description_width": ""
          }
        },
        "9ca7b249129f45228b86123bfde4b5c5": {
          "model_module": "@jupyter-widgets/base",
          "model_name": "LayoutModel",
          "model_module_version": "1.2.0",
          "state": {
            "_model_module": "@jupyter-widgets/base",
            "_model_module_version": "1.2.0",
            "_model_name": "LayoutModel",
            "_view_count": null,
            "_view_module": "@jupyter-widgets/base",
            "_view_module_version": "1.2.0",
            "_view_name": "LayoutView",
            "align_content": null,
            "align_items": null,
            "align_self": null,
            "border": null,
            "bottom": null,
            "display": null,
            "flex": null,
            "flex_flow": null,
            "grid_area": null,
            "grid_auto_columns": null,
            "grid_auto_flow": null,
            "grid_auto_rows": null,
            "grid_column": null,
            "grid_gap": null,
            "grid_row": null,
            "grid_template_areas": null,
            "grid_template_columns": null,
            "grid_template_rows": null,
            "height": null,
            "justify_content": null,
            "justify_items": null,
            "left": null,
            "margin": null,
            "max_height": null,
            "max_width": null,
            "min_height": null,
            "min_width": null,
            "object_fit": null,
            "object_position": null,
            "order": null,
            "overflow": null,
            "overflow_x": null,
            "overflow_y": null,
            "padding": null,
            "right": null,
            "top": null,
            "visibility": null,
            "width": null
          }
        },
        "1c840c5b4aa144f68c374ec41151498d": {
          "model_module": "@jupyter-widgets/controls",
          "model_name": "ProgressStyleModel",
          "model_module_version": "1.5.0",
          "state": {
            "_model_module": "@jupyter-widgets/controls",
            "_model_module_version": "1.5.0",
            "_model_name": "ProgressStyleModel",
            "_view_count": null,
            "_view_module": "@jupyter-widgets/base",
            "_view_module_version": "1.2.0",
            "_view_name": "StyleView",
            "bar_color": null,
            "description_width": ""
          }
        },
        "aa856421b61147c8a5924f4c210ac5eb": {
          "model_module": "@jupyter-widgets/base",
          "model_name": "LayoutModel",
          "model_module_version": "1.2.0",
          "state": {
            "_model_module": "@jupyter-widgets/base",
            "_model_module_version": "1.2.0",
            "_model_name": "LayoutModel",
            "_view_count": null,
            "_view_module": "@jupyter-widgets/base",
            "_view_module_version": "1.2.0",
            "_view_name": "LayoutView",
            "align_content": null,
            "align_items": null,
            "align_self": null,
            "border": null,
            "bottom": null,
            "display": null,
            "flex": null,
            "flex_flow": null,
            "grid_area": null,
            "grid_auto_columns": null,
            "grid_auto_flow": null,
            "grid_auto_rows": null,
            "grid_column": null,
            "grid_gap": null,
            "grid_row": null,
            "grid_template_areas": null,
            "grid_template_columns": null,
            "grid_template_rows": null,
            "height": null,
            "justify_content": null,
            "justify_items": null,
            "left": null,
            "margin": null,
            "max_height": null,
            "max_width": null,
            "min_height": null,
            "min_width": null,
            "object_fit": null,
            "object_position": null,
            "order": null,
            "overflow": null,
            "overflow_x": null,
            "overflow_y": null,
            "padding": null,
            "right": null,
            "top": null,
            "visibility": null,
            "width": null
          }
        },
        "e222b27fad7b419da1bc0aa1c3a6908a": {
          "model_module": "@jupyter-widgets/controls",
          "model_name": "DescriptionStyleModel",
          "model_module_version": "1.5.0",
          "state": {
            "_model_module": "@jupyter-widgets/controls",
            "_model_module_version": "1.5.0",
            "_model_name": "DescriptionStyleModel",
            "_view_count": null,
            "_view_module": "@jupyter-widgets/base",
            "_view_module_version": "1.2.0",
            "_view_name": "StyleView",
            "description_width": ""
          }
        }
      }
    }
  },
  "cells": [
    {
      "cell_type": "code",
      "execution_count": null,
      "metadata": {
        "colab": {
          "base_uri": "https://localhost:8080/"
        },
        "id": "ESBKiBqZkW9M",
        "outputId": "f3289ca5-df64-43bd-ddad-5465265deaaf"
      },
      "outputs": [
        {
          "output_type": "stream",
          "name": "stdout",
          "text": [
            "Looking in indexes: https://pypi.org/simple, https://us-python.pkg.dev/colab-wheels/public/simple/\n",
            "Requirement already satisfied: scikit-learn in /usr/local/lib/python3.9/dist-packages (1.2.2)\n",
            "Requirement already satisfied: threadpoolctl>=2.0.0 in /usr/local/lib/python3.9/dist-packages (from scikit-learn) (3.1.0)\n",
            "Requirement already satisfied: scipy>=1.3.2 in /usr/local/lib/python3.9/dist-packages (from scikit-learn) (1.10.1)\n",
            "Requirement already satisfied: numpy>=1.17.3 in /usr/local/lib/python3.9/dist-packages (from scikit-learn) (1.22.4)\n",
            "Requirement already satisfied: joblib>=1.1.1 in /usr/local/lib/python3.9/dist-packages (from scikit-learn) (1.1.1)\n"
          ]
        }
      ],
      "source": [
        "pip install -U scikit-learn"
      ]
    },
    {
      "cell_type": "code",
      "execution_count": null,
      "metadata": {
        "id": "mJA2lFRqBhvT"
      },
      "outputs": [],
      "source": [
        "# Standard imports\n",
        "import tensorflow as tf\n",
        "from tensorflow import keras\n",
        "\n",
        "import numpy as np\n",
        "import pandas as pd\n",
        "\n",
        "np.random.seed(42)\n",
        "tf.random.set_seed(42)"
      ]
    },
    {
      "cell_type": "code",
      "execution_count": null,
      "metadata": {
        "id": "6teLLHO4Dng3",
        "colab": {
          "base_uri": "https://localhost:8080/",
          "height": 259,
          "referenced_widgets": [
            "13e7959b775a45d1a57614054d801f97",
            "53356b0c9c49423f9c320b63a5558f57",
            "2986f389e2d745eea456739867e36bac",
            "5116d2f60816418590c91ebbc3ddc239",
            "ed5d814f93b348deae29a26f9f1f9260",
            "29643672061f4f96b890c6eef7162a84",
            "2ca89a9bc7484856b142f0c2ec5e3a00",
            "37d64412519f476a8b062f16922a9401",
            "99180c057c3d4fd9821603735e84cd09",
            "78c0dc9625384a52bfe77eb42ee93ece",
            "b40b10dfa5c4469ab366d749539d1044",
            "21239dc3099841d292206be5d9c2255f",
            "e8c9278a69f045c4b682cfeeb69cebf8",
            "450e0432ebe744938f906afce8b73e5b",
            "a4b84ee5472f4bfdb6c04a5065a12cd8",
            "16003385a5f74136a4affa3ef930dcba",
            "b86f61c357344a10b061acd208d4c2b7",
            "abd8f1f443564aa8a0a35b0832b159a1",
            "ca2b9e8da410433c9473d81a069996c9",
            "a01f4cc921b14d70ab89b3f6827efcea",
            "9c4e005edda3413ab840c6193866ad55",
            "77935e7791bf48399092df39536f2ae4",
            "9dbe3139ed114ccf9fc207e642a56e57",
            "b961d9f4e2614dec842af176e7986a31",
            "e437826b33e443549fb5b46adcfa400b",
            "ee9c2fb7341d46f687f0fc394ea7872e",
            "cd2a14a4d6904a3cadbacec0e9ebd1ad",
            "0a6703c468b948f79c68700468f02656",
            "23c4315170ed46b3a4d3eb2cb6ec4652",
            "f9274a312c954a07af41b296eb3b3ddd",
            "4e317669d4b84ae7a749a4b50b9c70fc",
            "d96807447ce348c18f0017f2e72af296",
            "8a8126b1960345c083d5ce4d725722f5",
            "a012e7a1509a4cfd8bfe4b2ce10b3426",
            "57cfd89e31e143859b4ee7899b09700e",
            "9490680e1d8b45949bca71d95192dbd1",
            "1d2035092d0c490197e139c57e63effa",
            "cbd2fd2c2565415393928faf8ed74c68",
            "1acba6202ded4d118dfcb9f4869f5a46",
            "77c5e72b2f9c42aa80987dd7b53fd66c",
            "9ca7b249129f45228b86123bfde4b5c5",
            "1c840c5b4aa144f68c374ec41151498d",
            "aa856421b61147c8a5924f4c210ac5eb",
            "e222b27fad7b419da1bc0aa1c3a6908a"
          ]
        },
        "outputId": "6538cf4d-6458-4dcc-d5b2-89c4ff47f1e4"
      },
      "outputs": [
        {
          "output_type": "stream",
          "name": "stdout",
          "text": [
            "Downloading and preparing dataset Unknown size (download: Unknown size, generated: Unknown size, total: Unknown size) to /root/tensorflow_datasets/malaria/1.0.0...\n"
          ]
        },
        {
          "output_type": "display_data",
          "data": {
            "text/plain": [
              "Dl Completed...: 0 url [00:00, ? url/s]"
            ],
            "application/vnd.jupyter.widget-view+json": {
              "version_major": 2,
              "version_minor": 0,
              "model_id": "13e7959b775a45d1a57614054d801f97"
            }
          },
          "metadata": {}
        },
        {
          "output_type": "display_data",
          "data": {
            "text/plain": [
              "Dl Size...: 0 MiB [00:00, ? MiB/s]"
            ],
            "application/vnd.jupyter.widget-view+json": {
              "version_major": 2,
              "version_minor": 0,
              "model_id": "21239dc3099841d292206be5d9c2255f"
            }
          },
          "metadata": {}
        },
        {
          "output_type": "display_data",
          "data": {
            "text/plain": [
              "Extraction completed...: 0 file [00:00, ? file/s]"
            ],
            "application/vnd.jupyter.widget-view+json": {
              "version_major": 2,
              "version_minor": 0,
              "model_id": "9dbe3139ed114ccf9fc207e642a56e57"
            }
          },
          "metadata": {}
        },
        {
          "output_type": "display_data",
          "data": {
            "text/plain": [
              "Shuffling /root/tensorflow_datasets/malaria/1.0.0.incompleteKJIDYX/malaria-train.tfrecord*...:   0%|          …"
            ],
            "application/vnd.jupyter.widget-view+json": {
              "version_major": 2,
              "version_minor": 0,
              "model_id": "a012e7a1509a4cfd8bfe4b2ce10b3426"
            }
          },
          "metadata": {}
        },
        {
          "output_type": "stream",
          "name": "stdout",
          "text": [
            "Dataset malaria downloaded and prepared to /root/tensorflow_datasets/malaria/1.0.0. Subsequent calls will reuse this data.\n",
            "X_train shape: (22046, 32, 32, 3)\n",
            "X_test shape: (2756, 32, 32, 3)\n",
            "y_train shape: (22046,)\n",
            "y_test shape: (2756,)\n",
            "X_val shape: (2756, 32, 32, 3)\n",
            "y_val shape: (2756,)\n"
          ]
        }
      ],
      "source": [
        "import tensorflow as tf\n",
        "import tensorflow_datasets as tfds\n",
        "from skimage.transform import resize\n",
        "from sklearn.model_selection import train_test_split\n",
        "import numpy as np\n",
        "malaria, info = tfds.load('malaria', split='train', with_info=True)\n",
        "images = []\n",
        "labels = []\n",
        "for example in tfds.as_numpy(malaria):\n",
        "  images.append(resize(example['image'], (32, 32)).astype(np.float32))\n",
        "  labels.append(example['label'])\n",
        "  if len(images) == 27558:\n",
        "    break\n",
        "X = np.array(images)\n",
        "y = np.array(labels)\n",
        "#X_v = np.array(images)\n",
        "#y_v = np.array(labels)\n",
        "X_train, X_test, y_train, y_test = train_test_split(X, y, test_size=0.1, shuffle = True, random_state = 8)\n",
        "\n",
        "# Use the same function above for the validation set\n",
        "X_train, X_val, y_train, y_val = train_test_split(X_train, y_train,\n",
        "    test_size=0.1111, random_state= 8) #train=80%, validation=10%, test=10%\n",
        "\n",
        "\n",
        "print(\"X_train shape: {}\".format(X_train.shape))\n",
        "print(\"X_test shape: {}\".format(X_test.shape))\n",
        "print(\"y_train shape: {}\".format(y_train.shape))\n",
        "print(\"y_test shape: {}\".format(y_test.shape))\n",
        "print(\"X_val shape: {}\".format(X_val.shape))\n",
        "print(\"y_val shape: {}\".format(y_val.shape))"
      ]
    },
    {
      "cell_type": "code",
      "execution_count": null,
      "metadata": {
        "id": "ZiEthZE4GGtf"
      },
      "outputs": [],
      "source": [
        "from keras.preprocessing.image import ImageDataGenerator\n",
        "datagen = ImageDataGenerator(rotation_range=20,\n",
        "                             vertical_flip=True,\n",
        "                             horizontal_flip=True)"
      ]
    },
    {
      "cell_type": "code",
      "execution_count": null,
      "metadata": {
        "id": "zFhoxZBojbyJ",
        "colab": {
          "base_uri": "https://localhost:8080/"
        },
        "outputId": "2f8ed47e-6006-415e-80a0-eb7a932de433"
      },
      "outputs": [
        {
          "output_type": "stream",
          "name": "stdout",
          "text": [
            "Model: \"sequential_9\"\n",
            "_________________________________________________________________\n",
            " Layer (type)                Output Shape              Param #   \n",
            "=================================================================\n",
            " batch_normalization_9 (Batc  (None, 32, 32, 3)        12        \n",
            " hNormalization)                                                 \n",
            "                                                                 \n",
            " conv2d_18 (Conv2D)          (None, 32, 32, 64)        9472      \n",
            "                                                                 \n",
            " max_pooling2d_18 (MaxPoolin  (None, 16, 16, 64)       0         \n",
            " g2D)                                                            \n",
            "                                                                 \n",
            " conv2d_19 (Conv2D)          (None, 16, 16, 128)       73856     \n",
            "                                                                 \n",
            " max_pooling2d_19 (MaxPoolin  (None, 8, 8, 128)        0         \n",
            " g2D)                                                            \n",
            "                                                                 \n",
            " reshape_9 (Reshape)         (None, 128, 64)           0         \n",
            "                                                                 \n",
            " lstm_14 (LSTM)              (None, 128, 128)          98816     \n",
            "                                                                 \n",
            " lstm_15 (LSTM)              (None, 128, 64)           49408     \n",
            "                                                                 \n",
            " flatten_9 (Flatten)         (None, 8192)              0         \n",
            "                                                                 \n",
            " dense_18 (Dense)            (None, 64)                524352    \n",
            "                                                                 \n",
            " dropout_9 (Dropout)         (None, 64)                0         \n",
            "                                                                 \n",
            " dense_19 (Dense)            (None, 2)                 130       \n",
            "                                                                 \n",
            "=================================================================\n",
            "Total params: 756,046\n",
            "Trainable params: 756,040\n",
            "Non-trainable params: 6\n",
            "_________________________________________________________________\n"
          ]
        }
      ],
      "source": [
        "#CNN-LSTM-LSTM model\n",
        "\n",
        "model = keras.models.Sequential([\n",
        "        keras.layers.BatchNormalization(input_shape=[32,32,3]),\n",
        "        keras.layers.Conv2D(filters=64, kernel_size=[7,7], strides=[1,1],\n",
        "                            padding=\"same\", activation=\"relu\"),\n",
        "        keras.layers.MaxPool2D(pool_size=2),\n",
        "        keras.layers.Conv2D(filters=128, kernel_size=3, strides=1, padding=\"same\",\n",
        "                            activation=\"relu\"),\n",
        "         keras.layers.MaxPool2D(2),\n",
        "\n",
        "        keras.layers.Reshape((128,-1)),\n",
        "\n",
        "        keras.layers.LSTM(128, return_sequences=True),\n",
        "        keras.layers.LSTM(64, return_sequences=True),\n",
        "\n",
        "        keras.layers.Flatten(),\n",
        "\n",
        "        keras.layers.Dense(64, activation=\"relu\"),\n",
        "        keras.layers.Dropout(0.15),\n",
        "        keras.layers.Dense(2, activation=\"softmax\")\n",
        "])\n",
        "model.summary()"
      ]
    },
    {
      "cell_type": "code",
      "execution_count": null,
      "metadata": {
        "id": "Ud8e7Ne0iomF",
        "colab": {
          "base_uri": "https://localhost:8080/"
        },
        "outputId": "7092f18a-a4d7-49e3-c4da-fec21b231657"
      },
      "outputs": [
        {
          "output_type": "stream",
          "name": "stdout",
          "text": [
            "Epoch 1/100\n",
            "689/689 [==============================] - 15s 18ms/step - loss: 0.5222 - accuracy: 0.7243 - val_loss: 0.1891 - val_accuracy: 0.9347\n",
            "Epoch 2/100\n",
            "689/689 [==============================] - 12s 17ms/step - loss: 0.1843 - accuracy: 0.9423 - val_loss: 0.1434 - val_accuracy: 0.9546\n",
            "Epoch 3/100\n",
            "689/689 [==============================] - 12s 17ms/step - loss: 0.1540 - accuracy: 0.9507 - val_loss: 0.1349 - val_accuracy: 0.9575\n",
            "Epoch 4/100\n",
            "689/689 [==============================] - 12s 17ms/step - loss: 0.1433 - accuracy: 0.9551 - val_loss: 0.1323 - val_accuracy: 0.9575\n",
            "Epoch 5/100\n",
            "689/689 [==============================] - 12s 17ms/step - loss: 0.1416 - accuracy: 0.9528 - val_loss: 0.1215 - val_accuracy: 0.9594\n",
            "Epoch 6/100\n",
            "689/689 [==============================] - 12s 17ms/step - loss: 0.1335 - accuracy: 0.9566 - val_loss: 0.1121 - val_accuracy: 0.9630\n",
            "Epoch 7/100\n",
            "689/689 [==============================] - 12s 17ms/step - loss: 0.1276 - accuracy: 0.9577 - val_loss: 0.1692 - val_accuracy: 0.9438\n",
            "Epoch 8/100\n",
            "689/689 [==============================] - 12s 17ms/step - loss: 0.1283 - accuracy: 0.9575 - val_loss: 0.1350 - val_accuracy: 0.9586\n",
            "Epoch 9/100\n",
            "689/689 [==============================] - 12s 17ms/step - loss: 0.1242 - accuracy: 0.9574 - val_loss: 0.1124 - val_accuracy: 0.9568\n",
            "Epoch 10/100\n",
            "689/689 [==============================] - 12s 17ms/step - loss: 0.1217 - accuracy: 0.9578 - val_loss: 0.1165 - val_accuracy: 0.9572\n",
            "Epoch 11/100\n",
            "689/689 [==============================] - 12s 17ms/step - loss: 0.1225 - accuracy: 0.9594 - val_loss: 0.1089 - val_accuracy: 0.9655\n",
            "Epoch 12/100\n",
            "689/689 [==============================] - 12s 17ms/step - loss: 0.1203 - accuracy: 0.9592 - val_loss: 0.1080 - val_accuracy: 0.9615\n",
            "Epoch 13/100\n",
            "689/689 [==============================] - 12s 17ms/step - loss: 0.1180 - accuracy: 0.9600 - val_loss: 0.1063 - val_accuracy: 0.9652\n",
            "Epoch 14/100\n",
            "689/689 [==============================] - 12s 17ms/step - loss: 0.1143 - accuracy: 0.9607 - val_loss: 0.1096 - val_accuracy: 0.9626\n",
            "Epoch 15/100\n",
            "689/689 [==============================] - 12s 17ms/step - loss: 0.1141 - accuracy: 0.9613 - val_loss: 0.1089 - val_accuracy: 0.9634\n",
            "Epoch 16/100\n",
            "689/689 [==============================] - 12s 17ms/step - loss: 0.1110 - accuracy: 0.9609 - val_loss: 0.1108 - val_accuracy: 0.9594\n",
            "Epoch 17/100\n",
            "689/689 [==============================] - 12s 17ms/step - loss: 0.1103 - accuracy: 0.9615 - val_loss: 0.1017 - val_accuracy: 0.9652\n",
            "Epoch 18/100\n",
            "689/689 [==============================] - 12s 17ms/step - loss: 0.1108 - accuracy: 0.9623 - val_loss: 0.1025 - val_accuracy: 0.9630\n",
            "Epoch 19/100\n",
            "689/689 [==============================] - 12s 17ms/step - loss: 0.1091 - accuracy: 0.9620 - val_loss: 0.0988 - val_accuracy: 0.9681\n",
            "Epoch 20/100\n",
            "689/689 [==============================] - 12s 17ms/step - loss: 0.1068 - accuracy: 0.9629 - val_loss: 0.1017 - val_accuracy: 0.9663\n",
            "Epoch 21/100\n",
            "689/689 [==============================] - 12s 17ms/step - loss: 0.1055 - accuracy: 0.9638 - val_loss: 0.0999 - val_accuracy: 0.9699\n",
            "Epoch 22/100\n",
            "689/689 [==============================] - 12s 17ms/step - loss: 0.1061 - accuracy: 0.9642 - val_loss: 0.1042 - val_accuracy: 0.9655\n",
            "Epoch 23/100\n",
            "689/689 [==============================] - 12s 17ms/step - loss: 0.1033 - accuracy: 0.9651 - val_loss: 0.1013 - val_accuracy: 0.9681\n",
            "Epoch 24/100\n",
            "689/689 [==============================] - 12s 17ms/step - loss: 0.1035 - accuracy: 0.9633 - val_loss: 0.1158 - val_accuracy: 0.9619\n"
          ]
        },
        {
          "output_type": "execute_result",
          "data": {
            "text/plain": [
              "<keras.callbacks.History at 0x7f6c20d25f70>"
            ]
          },
          "metadata": {},
          "execution_count": 72
        }
      ],
      "source": [
        "opt = keras.optimizers.SGD(learning_rate=0.02, momentum=0.9)\n",
        "\n",
        "model.compile(loss=\"sparse_categorical_crossentropy\", optimizer=opt,\n",
        "              metrics=[\"accuracy\"])\n",
        "model.fit(datagen.flow(X_train, y_train, batch_size=32), epochs=100, validation_data=(X_val, y_val),\n",
        "          callbacks=[keras.callbacks.EarlyStopping(patience=5, min_delta=0.0005, mode=\"min\")])"
      ]
    },
    {
      "cell_type": "code",
      "execution_count": null,
      "metadata": {
        "id": "7q3RV2DaoU6C",
        "colab": {
          "base_uri": "https://localhost:8080/"
        },
        "outputId": "2a745788-5e3c-4705-b42c-2bd486ba6df9"
      },
      "outputs": [
        {
          "output_type": "stream",
          "name": "stdout",
          "text": [
            "87/87 [==============================] - 1s 6ms/step - loss: 0.1286 - accuracy: 0.9565\n"
          ]
        },
        {
          "output_type": "execute_result",
          "data": {
            "text/plain": [
              "[0.12862412631511688, 0.9564586281776428]"
            ]
          },
          "metadata": {},
          "execution_count": 73
        }
      ],
      "source": [
        "model.evaluate(X_test, y_test)"
      ]
    },
    {
      "cell_type": "code",
      "execution_count": null,
      "metadata": {
        "id": "asuWIx3NCZB1",
        "colab": {
          "base_uri": "https://localhost:8080/"
        },
        "outputId": "ae84f066-09ff-4719-ca6e-1ab14d2f2a8e"
      },
      "outputs": [
        {
          "output_type": "stream",
          "name": "stdout",
          "text": [
            "87/87 [==============================] - 1s 5ms/step\n"
          ]
        },
        {
          "output_type": "execute_result",
          "data": {
            "text/plain": [
              "array([0, 0, 0, ..., 1, 0, 0])"
            ]
          },
          "metadata": {},
          "execution_count": 74
        }
      ],
      "source": [
        "y_pred= np.argmax(model.predict(X_test), axis=1)\n",
        "y_pred"
      ]
    },
    {
      "cell_type": "code",
      "execution_count": null,
      "metadata": {
        "id": "cKF16WbBCZB2",
        "colab": {
          "base_uri": "https://localhost:8080/"
        },
        "outputId": "2182da90-9e18-40f4-d3c9-6ea006cdd1cd"
      },
      "outputs": [
        {
          "output_type": "execute_result",
          "data": {
            "text/plain": [
              "array([[1331,   54],\n",
              "       [  66, 1305]])"
            ]
          },
          "metadata": {},
          "execution_count": 75
        }
      ],
      "source": [
        "y_pred\n",
        "from sklearn.metrics import confusion_matrix\n",
        "\n",
        "cm = confusion_matrix(y_test,y_pred)\n",
        "cm"
      ]
    },
    {
      "cell_type": "code",
      "execution_count": null,
      "metadata": {
        "id": "AuyDWR3jCZB2",
        "colab": {
          "base_uri": "https://localhost:8080/"
        },
        "outputId": "3f062280-10e3-4071-a0e0-04b04627fc5f"
      },
      "outputs": [
        {
          "output_type": "stream",
          "name": "stdout",
          "text": [
            "              precision    recall  f1-score   support\n",
            "\n",
            "           0       0.95      0.96      0.96      1385\n",
            "           1       0.96      0.95      0.96      1371\n",
            "\n",
            "    accuracy                           0.96      2756\n",
            "   macro avg       0.96      0.96      0.96      2756\n",
            "weighted avg       0.96      0.96      0.96      2756\n",
            "\n"
          ]
        }
      ],
      "source": [
        "from sklearn.metrics import classification_report\n",
        "\n",
        "print(classification_report(y_test, y_pred))"
      ]
    },
    {
      "cell_type": "code",
      "execution_count": null,
      "metadata": {
        "id": "MOBoa9DOCZB2",
        "colab": {
          "base_uri": "https://localhost:8080/",
          "height": 273
        },
        "outputId": "54bf9aaf-3966-465a-d7ec-189e99a53f30"
      },
      "outputs": [
        {
          "output_type": "display_data",
          "data": {
            "text/plain": [
              "<Figure size 432x288 with 2 Axes>"
            ],
            "image/png": "[encoded data removed]"
          },
          "metadata": {}
        }
      ],
      "source": [
        "import seaborn as sns\n",
        "from sklearn.metrics import confusion_matrix\n",
        "\n",
        "cm = confusion_matrix(y_test, y_pred)\n",
        "f = sns.heatmap(cm, annot=True, fmt='d')"
      ]
    },
    {
      "cell_type": "code",
      "source": [
        "import matplotlib.pyplot as plt\n",
        "import numpy as np\n",
        "\n",
        "%matplotlib inline\n",
        "\n",
        "sns.heatmap(cm/np.sum(cm), annot=True,\n",
        "            fmt='.2%', cmap='Blues', annot_kws={\"fontsize\":16})\n",
        "sns.set(font_scale=1.4)\n",
        "\n",
        "# Save the image to a file\n",
        "plt.savefig('CNN-LSTM-LSTM.pdf')\n",
        "plt.show()\n",
        "\n",
        "# Download the image file\n",
        "from google.colab import files\n",
        "files.download('CNN-LSTM-LSTM.pdf')"
      ],
      "metadata": {
        "id": "7rwNmLIIJMix",
        "colab": {
          "base_uri": "https://localhost:8080/",
          "height": 273
        },
        "outputId": "d946d1b8-578d-43a1-c31e-a60a504482ed"
      },
      "execution_count": null,
      "outputs": [
        {
          "output_type": "display_data",
          "data": {
            "text/plain": [
              "<Figure size 432x288 with 2 Axes>"
            ],
            "image/png": "[encoded data removed]"
          },
          "metadata": {
            "needs_background": "light"
          }
        },
        {
          "output_type": "display_data",
          "data": {
            "text/plain": [
              "<IPython.core.display.Javascript object>"
            ],
            "application/javascript": [
              "\n",
              "    async function download(id, filename, size) {\n",
              "      if (!google.colab.kernel.accessAllowed) {\n",
              "        return;\n",
              "      }\n",
              "      const div = document.createElement('div');\n",
              "      const label = document.createElement('label');\n",
              "      label.textContent = `Downloading \"${filename}\": `;\n",
              "      div.appendChild(label);\n",
              "      const progress = document.createElement('progress');\n",
              "      progress.max = size;\n",
              "      div.appendChild(progress);\n",
              "      document.body.appendChild(div);\n",
              "\n",
              "      const buffers = [];\n",
              "      let downloaded = 0;\n",
              "\n",
              "      const channel = await google.colab.kernel.comms.open(id);\n",
              "      // Send a message to notify the kernel that we're ready.\n",
              "      channel.send({})\n",
              "\n",
              "      for await (const message of channel.messages) {\n",
              "        // Send a message to notify the kernel that we're ready.\n",
              "        channel.send({})\n",
              "        if (message.buffers) {\n",
              "          for (const buffer of message.buffers) {\n",
              "            buffers.push(buffer);\n",
              "            downloaded += buffer.byteLength;\n",
              "            progress.value = downloaded;\n",
              "          }\n",
              "        }\n",
              "      }\n",
              "      const blob = new Blob(buffers, {type: 'application/binary'});\n",
              "      const a = document.createElement('a');\n",
              "      a.href = window.URL.createObjectURL(blob);\n",
              "      a.download = filename;\n",
              "      div.appendChild(a);\n",
              "      a.click();\n",
              "      div.remove();\n",
              "    }\n",
              "  "
            ]
          },
          "metadata": {}
        },
        {
          "output_type": "display_data",
          "data": {
            "text/plain": [
              "<IPython.core.display.Javascript object>"
            ],
            "application/javascript": [
              "download(\"download_f9c33368-883e-4c83-a557-13401d288136\", \"CNN-LSTM-LSTM.pdf\", 9210)"
            ]
          },
          "metadata": {}
        }
      ]
    },
    {
      "cell_type": "code",
      "execution_count": null,
      "metadata": {
        "colab": {
          "base_uri": "https://localhost:8080/"
        },
        "outputId": "7f4ade32-e4c9-4fa2-ffc0-003f7b7dd9a9",
        "id": "NyLc8iI-0hAr"
      },
      "outputs": [
        {
          "output_type": "stream",
          "name": "stdout",
          "text": [
            "Model: \"sequential_1\"\n",
            "_________________________________________________________________\n",
            " Layer (type)                Output Shape              Param #   \n",
            "=================================================================\n",
            " batch_normalization_1 (Batc  (None, 32, 32, 3)        12        \n",
            " hNormalization)                                                 \n",
            "                                                                 \n",
            " conv2d_2 (Conv2D)           (None, 32, 32, 64)        9472      \n",
            "                                                                 \n",
            " max_pooling2d_2 (MaxPooling  (None, 16, 16, 64)       0         \n",
            " 2D)                                                             \n",
            "                                                                 \n",
            " conv2d_3 (Conv2D)           (None, 16, 16, 128)       73856     \n",
            "                                                                 \n",
            " max_pooling2d_3 (MaxPooling  (None, 8, 8, 128)        0         \n",
            " 2D)                                                             \n",
            "                                                                 \n",
            " reshape_1 (Reshape)         (None, 128, 64)           0         \n",
            "                                                                 \n",
            " gru (GRU)                   (None, 128, 128)          74496     \n",
            "                                                                 \n",
            " gru_1 (GRU)                 (None, 128, 64)           37248     \n",
            "                                                                 \n",
            " flatten_1 (Flatten)         (None, 8192)              0         \n",
            "                                                                 \n",
            " dense_2 (Dense)             (None, 64)                524352    \n",
            "                                                                 \n",
            " dropout_1 (Dropout)         (None, 64)                0         \n",
            "                                                                 \n",
            " dense_3 (Dense)             (None, 2)                 130       \n",
            "                                                                 \n",
            "=================================================================\n",
            "Total params: 719,566\n",
            "Trainable params: 719,560\n",
            "Non-trainable params: 6\n",
            "_________________________________________________________________\n"
          ]
        }
      ],
      "source": [
        "#CNN-GRU-GRU model\n",
        "\n",
        "model = keras.models.Sequential([\n",
        "        keras.layers.BatchNormalization(input_shape=[32,32,3]),\n",
        "        keras.layers.Conv2D(filters=64, kernel_size=[7,7], strides=[1,1],\n",
        "                            padding=\"same\", activation=\"relu\"),\n",
        "        keras.layers.MaxPool2D(pool_size=2),\n",
        "        keras.layers.Conv2D(filters=128, kernel_size=3, strides=1, padding=\"same\",\n",
        "                            activation=\"relu\"),\n",
        "         keras.layers.MaxPool2D(2),\n",
        "\n",
        "        keras.layers.Reshape((128,-1)),\n",
        "\n",
        "        keras.layers.GRU(128, return_sequences=True),\n",
        "        keras.layers.GRU(64, return_sequences=True),\n",
        "\n",
        "        keras.layers.Flatten(),\n",
        "\n",
        "        keras.layers.Dense(64, activation=\"relu\"),\n",
        "        keras.layers.Dropout(0.15),\n",
        "        keras.layers.Dense(2, activation=\"softmax\")\n",
        "])\n",
        "model.summary()"
      ]
    },
    {
      "cell_type": "code",
      "execution_count": null,
      "metadata": {
        "colab": {
          "base_uri": "https://localhost:8080/"
        },
        "outputId": "a19d631a-9025-4525-a260-a88a55047b76",
        "id": "Gkv_mcok0hAr"
      },
      "outputs": [
        {
          "output_type": "stream",
          "name": "stdout",
          "text": [
            "Epoch 1/100\n",
            "689/689 [==============================] - 18s 21ms/step - loss: 0.4555 - accuracy: 0.7670 - val_loss: 0.1677 - val_accuracy: 0.9463\n",
            "Epoch 2/100\n",
            "689/689 [==============================] - 13s 20ms/step - loss: 0.1739 - accuracy: 0.9445 - val_loss: 0.1402 - val_accuracy: 0.9568\n",
            "Epoch 3/100\n",
            "689/689 [==============================] - 14s 20ms/step - loss: 0.1504 - accuracy: 0.9515 - val_loss: 0.1326 - val_accuracy: 0.9604\n",
            "Epoch 4/100\n",
            "689/689 [==============================] - 13s 19ms/step - loss: 0.1433 - accuracy: 0.9526 - val_loss: 0.1625 - val_accuracy: 0.9554\n",
            "Epoch 5/100\n",
            "689/689 [==============================] - 13s 19ms/step - loss: 0.1391 - accuracy: 0.9548 - val_loss: 0.1241 - val_accuracy: 0.9583\n",
            "Epoch 6/100\n",
            "689/689 [==============================] - 13s 19ms/step - loss: 0.1347 - accuracy: 0.9561 - val_loss: 0.1390 - val_accuracy: 0.9568\n",
            "Epoch 7/100\n",
            "689/689 [==============================] - 13s 19ms/step - loss: 0.1289 - accuracy: 0.9565 - val_loss: 0.1201 - val_accuracy: 0.9583\n",
            "Epoch 8/100\n",
            "689/689 [==============================] - 13s 20ms/step - loss: 0.1296 - accuracy: 0.9571 - val_loss: 0.1262 - val_accuracy: 0.9572\n",
            "Epoch 9/100\n",
            "689/689 [==============================] - 13s 19ms/step - loss: 0.1275 - accuracy: 0.9566 - val_loss: 0.1243 - val_accuracy: 0.9586\n",
            "Epoch 10/100\n",
            "689/689 [==============================] - 13s 19ms/step - loss: 0.1247 - accuracy: 0.9589 - val_loss: 0.1136 - val_accuracy: 0.9623\n",
            "Epoch 11/100\n",
            "689/689 [==============================] - 14s 20ms/step - loss: 0.1205 - accuracy: 0.9589 - val_loss: 0.1062 - val_accuracy: 0.9626\n",
            "Epoch 12/100\n",
            "689/689 [==============================] - 13s 20ms/step - loss: 0.1219 - accuracy: 0.9583 - val_loss: 0.1219 - val_accuracy: 0.9623\n",
            "Epoch 13/100\n",
            "689/689 [==============================] - 14s 20ms/step - loss: 0.1184 - accuracy: 0.9601 - val_loss: 0.1086 - val_accuracy: 0.9637\n",
            "Epoch 14/100\n",
            "689/689 [==============================] - 14s 20ms/step - loss: 0.1184 - accuracy: 0.9589 - val_loss: 0.1147 - val_accuracy: 0.9615\n",
            "Epoch 15/100\n",
            "689/689 [==============================] - 14s 20ms/step - loss: 0.1165 - accuracy: 0.9601 - val_loss: 0.1044 - val_accuracy: 0.9641\n",
            "Epoch 16/100\n",
            "689/689 [==============================] - 14s 20ms/step - loss: 0.1153 - accuracy: 0.9624 - val_loss: 0.1078 - val_accuracy: 0.9641\n",
            "Epoch 17/100\n",
            "689/689 [==============================] - 14s 20ms/step - loss: 0.1142 - accuracy: 0.9608 - val_loss: 0.1062 - val_accuracy: 0.9623\n",
            "Epoch 18/100\n",
            "689/689 [==============================] - 14s 20ms/step - loss: 0.1114 - accuracy: 0.9616 - val_loss: 0.1030 - val_accuracy: 0.9663\n",
            "Epoch 19/100\n",
            "689/689 [==============================] - 14s 20ms/step - loss: 0.1103 - accuracy: 0.9633 - val_loss: 0.1186 - val_accuracy: 0.9619\n",
            "Epoch 20/100\n",
            "689/689 [==============================] - 13s 19ms/step - loss: 0.1092 - accuracy: 0.9626 - val_loss: 0.1044 - val_accuracy: 0.9655\n",
            "Epoch 21/100\n",
            "689/689 [==============================] - 14s 20ms/step - loss: 0.1100 - accuracy: 0.9621 - val_loss: 0.0955 - val_accuracy: 0.9659\n",
            "Epoch 22/100\n",
            "689/689 [==============================] - 14s 20ms/step - loss: 0.1096 - accuracy: 0.9620 - val_loss: 0.1028 - val_accuracy: 0.9677\n",
            "Epoch 23/100\n",
            "689/689 [==============================] - 14s 20ms/step - loss: 0.1066 - accuracy: 0.9645 - val_loss: 0.1036 - val_accuracy: 0.9663\n",
            "Epoch 24/100\n",
            "689/689 [==============================] - 14s 21ms/step - loss: 0.1068 - accuracy: 0.9635 - val_loss: 0.0975 - val_accuracy: 0.9670\n",
            "Epoch 25/100\n",
            "689/689 [==============================] - 14s 20ms/step - loss: 0.1051 - accuracy: 0.9641 - val_loss: 0.0985 - val_accuracy: 0.9655\n",
            "Epoch 26/100\n",
            "689/689 [==============================] - 13s 19ms/step - loss: 0.1069 - accuracy: 0.9633 - val_loss: 0.1227 - val_accuracy: 0.9641\n"
          ]
        },
        {
          "output_type": "execute_result",
          "data": {
            "text/plain": [
              "<keras.callbacks.History at 0x7f7f70f409d0>"
            ]
          },
          "metadata": {},
          "execution_count": 14
        }
      ],
      "source": [
        "opt = keras.optimizers.SGD(learning_rate=0.02, momentum=0.9)\n",
        "\n",
        "model.compile(loss=\"sparse_categorical_crossentropy\", optimizer=opt,\n",
        "              metrics=[\"accuracy\"])\n",
        "model.fit(datagen.flow(X_train, y_train, batch_size=32), epochs=100, validation_data=(X_val, y_val),\n",
        "          callbacks=[keras.callbacks.EarlyStopping(patience=5, min_delta=0.0005, mode=\"min\")])"
      ]
    },
    {
      "cell_type": "code",
      "execution_count": null,
      "metadata": {
        "colab": {
          "base_uri": "https://localhost:8080/"
        },
        "outputId": "ab7aee11-6593-455b-a415-0d4f96cd3579",
        "id": "bXQ0ye0V0hAr"
      },
      "outputs": [
        {
          "output_type": "stream",
          "name": "stdout",
          "text": [
            "87/87 [==============================] - 1s 6ms/step - loss: 0.1291 - accuracy: 0.9601\n"
          ]
        },
        {
          "output_type": "execute_result",
          "data": {
            "text/plain": [
              "[0.12912946939468384, 0.9600870609283447]"
            ]
          },
          "metadata": {},
          "execution_count": 15
        }
      ],
      "source": [
        "model.evaluate(X_test, y_test)"
      ]
    },
    {
      "cell_type": "code",
      "execution_count": null,
      "metadata": {
        "colab": {
          "base_uri": "https://localhost:8080/"
        },
        "outputId": "8b9fa9eb-97e6-4400-9b79-7aaaa9f377c4",
        "id": "eoQC8S5U0hAs"
      },
      "outputs": [
        {
          "output_type": "stream",
          "name": "stdout",
          "text": [
            "87/87 [==============================] - 1s 5ms/step\n"
          ]
        },
        {
          "output_type": "execute_result",
          "data": {
            "text/plain": [
              "array([0, 0, 0, ..., 1, 0, 0])"
            ]
          },
          "metadata": {},
          "execution_count": 16
        }
      ],
      "source": [
        "y_pred= np.argmax(model.predict(X_test), axis=1)\n",
        "y_pred"
      ]
    },
    {
      "cell_type": "code",
      "execution_count": null,
      "metadata": {
        "colab": {
          "base_uri": "https://localhost:8080/"
        },
        "outputId": "545fb3d4-dc12-4182-d7d9-f3eb2a10fdcd",
        "id": "rBZPpU130hAs"
      },
      "outputs": [
        {
          "output_type": "execute_result",
          "data": {
            "text/plain": [
              "array([[1335,   50],\n",
              "       [  60, 1311]])"
            ]
          },
          "metadata": {},
          "execution_count": 17
        }
      ],
      "source": [
        "y_pred\n",
        "from sklearn.metrics import confusion_matrix\n",
        "\n",
        "cm = confusion_matrix(y_test,y_pred)\n",
        "cm"
      ]
    },
    {
      "cell_type": "code",
      "execution_count": null,
      "metadata": {
        "colab": {
          "base_uri": "https://localhost:8080/"
        },
        "outputId": "3b65b37c-ca1b-4de8-8145-dc00a230556e",
        "id": "QZh9862V0hAs"
      },
      "outputs": [
        {
          "output_type": "stream",
          "name": "stdout",
          "text": [
            "              precision    recall  f1-score   support\n",
            "\n",
            "           0       0.96      0.96      0.96      1385\n",
            "           1       0.96      0.96      0.96      1371\n",
            "\n",
            "    accuracy                           0.96      2756\n",
            "   macro avg       0.96      0.96      0.96      2756\n",
            "weighted avg       0.96      0.96      0.96      2756\n",
            "\n"
          ]
        }
      ],
      "source": [
        "from sklearn.metrics import classification_report\n",
        "\n",
        "print(classification_report(y_test, y_pred))"
      ]
    },
    {
      "cell_type": "code",
      "execution_count": null,
      "metadata": {
        "colab": {
          "base_uri": "https://localhost:8080/",
          "height": 273
        },
        "outputId": "dd9bda26-6685-405e-ded8-f84f8e3ddb73",
        "id": "7FF9MQFB0hAs"
      },
      "outputs": [
        {
          "output_type": "display_data",
          "data": {
            "text/plain": [
              "<Figure size 432x288 with 2 Axes>"
            ],
            "image/png": "[encoded data removed]"
          },
          "metadata": {}
        }
      ],
      "source": [
        "import seaborn as sns\n",
        "from sklearn.metrics import confusion_matrix\n",
        "\n",
        "cm = confusion_matrix(y_test, y_pred)\n",
        "f = sns.heatmap(cm, annot=True, fmt='d')"
      ]
    },
    {
      "cell_type": "code",
      "source": [
        "import matplotlib.pyplot as plt\n",
        "import numpy as np\n",
        "\n",
        "%matplotlib inline\n",
        "\n",
        "sns.heatmap(cm/np.sum(cm), annot=True,\n",
        "            fmt='.2%', cmap='Blues', annot_kws={\"fontsize\":16})\n",
        "sns.set(font_scale=1.4)\n",
        "\n",
        "# Save the image to a file\n",
        "plt.savefig('CNN-GRU-GRU.pdf')\n",
        "plt.show()\n",
        "\n",
        "# Download the image file\n",
        "from google.colab import files\n",
        "files.download('CNN-GRU-GRU.pdf')"
      ],
      "metadata": {
        "colab": {
          "base_uri": "https://localhost:8080/",
          "height": 273
        },
        "outputId": "7e5d6969-5b8e-4727-db0a-c552d8d8a7c7",
        "id": "JFo3RbAN0hAt"
      },
      "execution_count": null,
      "outputs": [
        {
          "output_type": "display_data",
          "data": {
            "text/plain": [
              "<Figure size 432x288 with 2 Axes>"
            ],
            "image/png": "[encoded data removed]"
          },
          "metadata": {
            "needs_background": "light"
          }
        },
        {
          "output_type": "display_data",
          "data": {
            "text/plain": [
              "<IPython.core.display.Javascript object>"
            ],
            "application/javascript": [
              "\n",
              "    async function download(id, filename, size) {\n",
              "      if (!google.colab.kernel.accessAllowed) {\n",
              "        return;\n",
              "      }\n",
              "      const div = document.createElement('div');\n",
              "      const label = document.createElement('label');\n",
              "      label.textContent = `Downloading \"${filename}\": `;\n",
              "      div.appendChild(label);\n",
              "      const progress = document.createElement('progress');\n",
              "      progress.max = size;\n",
              "      div.appendChild(progress);\n",
              "      document.body.appendChild(div);\n",
              "\n",
              "      const buffers = [];\n",
              "      let downloaded = 0;\n",
              "\n",
              "      const channel = await google.colab.kernel.comms.open(id);\n",
              "      // Send a message to notify the kernel that we're ready.\n",
              "      channel.send({})\n",
              "\n",
              "      for await (const message of channel.messages) {\n",
              "        // Send a message to notify the kernel that we're ready.\n",
              "        channel.send({})\n",
              "        if (message.buffers) {\n",
              "          for (const buffer of message.buffers) {\n",
              "            buffers.push(buffer);\n",
              "            downloaded += buffer.byteLength;\n",
              "            progress.value = downloaded;\n",
              "          }\n",
              "        }\n",
              "      }\n",
              "      const blob = new Blob(buffers, {type: 'application/binary'});\n",
              "      const a = document.createElement('a');\n",
              "      a.href = window.URL.createObjectURL(blob);\n",
              "      a.download = filename;\n",
              "      div.appendChild(a);\n",
              "      a.click();\n",
              "      div.remove();\n",
              "    }\n",
              "  "
            ]
          },
          "metadata": {}
        },
        {
          "output_type": "display_data",
          "data": {
            "text/plain": [
              "<IPython.core.display.Javascript object>"
            ],
            "application/javascript": [
              "download(\"download_618f95bb-6d9b-4f4b-a408-958997bcfca6\", \"CNN-GRU-GRU.pdf\", 8350)"
            ]
          },
          "metadata": {}
        }
      ]
    },
    {
      "cell_type": "code",
      "execution_count": null,
      "metadata": {
        "id": "4tUwdExHZQlg",
        "colab": {
          "base_uri": "https://localhost:8080/"
        },
        "outputId": "68a6cd05-d195-4426-f903-6914c87d4270"
      },
      "outputs": [
        {
          "output_type": "stream",
          "name": "stdout",
          "text": [
            "Model: \"sequential_4\"\n",
            "_________________________________________________________________\n",
            " Layer (type)                Output Shape              Param #   \n",
            "=================================================================\n",
            " batch_normalization_4 (Batc  (None, 32, 32, 3)        12        \n",
            " hNormalization)                                                 \n",
            "                                                                 \n",
            " conv2d_8 (Conv2D)           (None, 32, 32, 64)        9472      \n",
            "                                                                 \n",
            " max_pooling2d_8 (MaxPooling  (None, 16, 16, 64)       0         \n",
            " 2D)                                                             \n",
            "                                                                 \n",
            " conv2d_9 (Conv2D)           (None, 16, 16, 128)       73856     \n",
            "                                                                 \n",
            " max_pooling2d_9 (MaxPooling  (None, 8, 8, 128)        0         \n",
            " 2D)                                                             \n",
            "                                                                 \n",
            " reshape_4 (Reshape)         (None, 128, 64)           0         \n",
            "                                                                 \n",
            " bidirectional (Bidirectiona  (None, 128, 128)         66048     \n",
            " l)                                                              \n",
            "                                                                 \n",
            " bidirectional_1 (Bidirectio  (None, 64)               41216     \n",
            " nal)                                                            \n",
            "                                                                 \n",
            " flatten_4 (Flatten)         (None, 64)                0         \n",
            "                                                                 \n",
            " dense_8 (Dense)             (None, 64)                4160      \n",
            "                                                                 \n",
            " dropout_4 (Dropout)         (None, 64)                0         \n",
            "                                                                 \n",
            " dense_9 (Dense)             (None, 2)                 130       \n",
            "                                                                 \n",
            "=================================================================\n",
            "Total params: 194,894\n",
            "Trainable params: 194,888\n",
            "Non-trainable params: 6\n",
            "_________________________________________________________________\n"
          ]
        }
      ],
      "source": [
        "#CNN-BiLSTM-BiLSTM model\n",
        "\n",
        "model = keras.models.Sequential([\n",
        "        keras.layers.BatchNormalization(input_shape=[32,32,3]),\n",
        "        keras.layers.Conv2D(filters=64, kernel_size=[7,7], strides=[1,1],\n",
        "                            padding=\"same\", activation=\"relu\"),\n",
        "        keras.layers.MaxPool2D(pool_size=2),\n",
        "        keras.layers.Conv2D(filters=128, kernel_size=3, strides=1, padding=\"same\",\n",
        "                            activation=\"relu\"),\n",
        "         keras.layers.MaxPool2D(2),\n",
        "\n",
        "        keras.layers.Reshape((128,-1)),\n",
        "\n",
        "        keras.layers.Bidirectional(tf.keras.layers.LSTM(64, return_sequences=True)),\n",
        "        keras.layers.Bidirectional(tf.keras.layers.LSTM(32)),\n",
        "\n",
        "        keras.layers.Flatten(),\n",
        "\n",
        "        keras.layers.Dense(64, activation=\"relu\"),\n",
        "        keras.layers.Dropout(0.15),\n",
        "        keras.layers.Dense(2, activation=\"softmax\")\n",
        "])\n",
        "model.summary()"
      ]
    },
    {
      "cell_type": "code",
      "execution_count": null,
      "metadata": {
        "id": "ZBAgPDNrZQlk",
        "colab": {
          "base_uri": "https://localhost:8080/"
        },
        "outputId": "702ebc59-953c-4db0-de5e-bb87d8014ef7"
      },
      "outputs": [
        {
          "output_type": "stream",
          "name": "stdout",
          "text": [
            "Epoch 1/100\n",
            "689/689 [==============================] - 23s 25ms/step - loss: 0.6492 - accuracy: 0.6201 - val_loss: 0.6410 - val_accuracy: 0.6542\n",
            "Epoch 2/100\n",
            "689/689 [==============================] - 16s 23ms/step - loss: 0.6167 - accuracy: 0.6657 - val_loss: 0.6876 - val_accuracy: 0.4837\n",
            "Epoch 3/100\n",
            "689/689 [==============================] - 16s 23ms/step - loss: 0.6682 - accuracy: 0.5885 - val_loss: 0.6064 - val_accuracy: 0.6894\n",
            "Epoch 4/100\n",
            "689/689 [==============================] - 16s 23ms/step - loss: 0.6163 - accuracy: 0.6674 - val_loss: 0.6500 - val_accuracy: 0.6332\n",
            "Epoch 5/100\n",
            "689/689 [==============================] - 16s 23ms/step - loss: 0.5972 - accuracy: 0.6863 - val_loss: 0.5433 - val_accuracy: 0.7221\n",
            "Epoch 6/100\n",
            "689/689 [==============================] - 16s 23ms/step - loss: 0.3705 - accuracy: 0.8465 - val_loss: 1.3215 - val_accuracy: 0.5334\n",
            "Epoch 7/100\n",
            "689/689 [==============================] - 16s 23ms/step - loss: 0.6901 - accuracy: 0.5319 - val_loss: 0.6833 - val_accuracy: 0.5218\n",
            "Epoch 8/100\n",
            "689/689 [==============================] - 16s 23ms/step - loss: 0.6435 - accuracy: 0.6041 - val_loss: 0.3646 - val_accuracy: 0.8701\n",
            "Epoch 9/100\n",
            "689/689 [==============================] - 16s 23ms/step - loss: 0.2983 - accuracy: 0.8988 - val_loss: 0.1755 - val_accuracy: 0.9430\n",
            "Epoch 10/100\n",
            "689/689 [==============================] - 16s 23ms/step - loss: 0.2023 - accuracy: 0.9340 - val_loss: 0.1798 - val_accuracy: 0.9445\n",
            "Epoch 11/100\n",
            "689/689 [==============================] - 16s 23ms/step - loss: 0.1848 - accuracy: 0.9401 - val_loss: 0.1870 - val_accuracy: 0.9438\n",
            "Epoch 12/100\n",
            "689/689 [==============================] - 16s 23ms/step - loss: 0.1777 - accuracy: 0.9428 - val_loss: 0.1550 - val_accuracy: 0.9507\n",
            "Epoch 13/100\n",
            "689/689 [==============================] - 21s 30ms/step - loss: 0.1775 - accuracy: 0.9436 - val_loss: 0.1575 - val_accuracy: 0.9539\n",
            "Epoch 14/100\n",
            "689/689 [==============================] - 16s 23ms/step - loss: 0.1711 - accuracy: 0.9458 - val_loss: 0.1431 - val_accuracy: 0.9539\n",
            "Epoch 15/100\n",
            "689/689 [==============================] - 16s 23ms/step - loss: 0.1685 - accuracy: 0.9459 - val_loss: 0.1448 - val_accuracy: 0.9539\n",
            "Epoch 16/100\n",
            "689/689 [==============================] - 17s 24ms/step - loss: 0.1698 - accuracy: 0.9465 - val_loss: 0.1546 - val_accuracy: 0.9521\n",
            "Epoch 17/100\n",
            "689/689 [==============================] - 16s 23ms/step - loss: 0.1863 - accuracy: 0.9381 - val_loss: 0.1882 - val_accuracy: 0.9438\n",
            "Epoch 18/100\n",
            "689/689 [==============================] - 16s 23ms/step - loss: 0.1843 - accuracy: 0.9408 - val_loss: 0.1574 - val_accuracy: 0.9499\n",
            "Epoch 19/100\n",
            "689/689 [==============================] - 16s 23ms/step - loss: 0.1686 - accuracy: 0.9463 - val_loss: 0.1668 - val_accuracy: 0.9405\n"
          ]
        },
        {
          "output_type": "execute_result",
          "data": {
            "text/plain": [
              "<keras.callbacks.History at 0x7f7ec23d7b20>"
            ]
          },
          "metadata": {},
          "execution_count": 38
        }
      ],
      "source": [
        "opt = keras.optimizers.SGD(learning_rate=0.02, momentum=0.9)\n",
        "\n",
        "model.compile(loss=\"sparse_categorical_crossentropy\", optimizer=opt,\n",
        "              metrics=[\"accuracy\"])\n",
        "model.fit(datagen.flow(X_train, y_train, batch_size=32), epochs=100, validation_data=(X_val, y_val),\n",
        "          callbacks=[keras.callbacks.EarlyStopping(patience=5, min_delta=0.0005, mode=\"min\")])"
      ]
    },
    {
      "cell_type": "code",
      "execution_count": null,
      "metadata": {
        "id": "5Zhmdo8SZQll",
        "colab": {
          "base_uri": "https://localhost:8080/"
        },
        "outputId": "52f7c038-16f5-4255-87d8-db81aa369c99"
      },
      "outputs": [
        {
          "output_type": "stream",
          "name": "stdout",
          "text": [
            "87/87 [==============================] - 1s 9ms/step - loss: 0.1764 - accuracy: 0.9376\n"
          ]
        },
        {
          "output_type": "execute_result",
          "data": {
            "text/plain": [
              "[0.17636623978614807, 0.9375907182693481]"
            ]
          },
          "metadata": {},
          "execution_count": 39
        }
      ],
      "source": [
        "model.evaluate(X_test, y_test)"
      ]
    },
    {
      "cell_type": "code",
      "execution_count": null,
      "metadata": {
        "id": "Gv0pvgTOZQll",
        "colab": {
          "base_uri": "https://localhost:8080/"
        },
        "outputId": "55a25b87-ec5b-4086-8ffc-11d7a11f709c"
      },
      "outputs": [
        {
          "output_type": "stream",
          "name": "stdout",
          "text": [
            "87/87 [==============================] - 2s 9ms/step\n"
          ]
        },
        {
          "output_type": "execute_result",
          "data": {
            "text/plain": [
              "array([0, 0, 0, ..., 1, 0, 0])"
            ]
          },
          "metadata": {},
          "execution_count": 40
        }
      ],
      "source": [
        "y_pred= np.argmax(model.predict(X_test), axis=1)\n",
        "y_pred"
      ]
    },
    {
      "cell_type": "code",
      "execution_count": null,
      "metadata": {
        "id": "5UMjgkL0ZQlm",
        "colab": {
          "base_uri": "https://localhost:8080/"
        },
        "outputId": "12b3f2ff-6c1f-4675-90aa-9a78585940e9"
      },
      "outputs": [
        {
          "output_type": "execute_result",
          "data": {
            "text/plain": [
              "array([[1317,   68],\n",
              "       [ 104, 1267]])"
            ]
          },
          "metadata": {},
          "execution_count": 41
        }
      ],
      "source": [
        "y_pred\n",
        "from sklearn.metrics import confusion_matrix\n",
        "\n",
        "cm = confusion_matrix(y_test,y_pred)\n",
        "cm"
      ]
    },
    {
      "cell_type": "code",
      "execution_count": null,
      "metadata": {
        "id": "areFT_F3ZQlm",
        "colab": {
          "base_uri": "https://localhost:8080/"
        },
        "outputId": "e5f3bbac-b9bf-429a-b2b1-5453e8386352"
      },
      "outputs": [
        {
          "output_type": "stream",
          "name": "stdout",
          "text": [
            "              precision    recall  f1-score   support\n",
            "\n",
            "           0       0.93      0.95      0.94      1385\n",
            "           1       0.95      0.92      0.94      1371\n",
            "\n",
            "    accuracy                           0.94      2756\n",
            "   macro avg       0.94      0.94      0.94      2756\n",
            "weighted avg       0.94      0.94      0.94      2756\n",
            "\n"
          ]
        }
      ],
      "source": [
        "from sklearn.metrics import classification_report\n",
        "\n",
        "print(classification_report(y_test, y_pred))"
      ]
    },
    {
      "cell_type": "code",
      "source": [
        "import seaborn as sns\n",
        "from sklearn.metrics import confusion_matrix\n",
        "\n",
        "cm = confusion_matrix(y_test, y_pred)\n",
        "f = sns.heatmap(cm, annot=True, fmt='d')"
      ],
      "metadata": {
        "colab": {
          "base_uri": "https://localhost:8080/",
          "height": 273
        },
        "id": "u22bUfU3WDtZ",
        "outputId": "407d2bb9-a1f2-4188-8c46-a0c16f395741"
      },
      "execution_count": null,
      "outputs": [
        {
          "output_type": "display_data",
          "data": {
            "text/plain": [
              "<Figure size 432x288 with 2 Axes>"
            ],
            "image/png": "[encoded data removed]"
          },
          "metadata": {}
        }
      ]
    },
    {
      "cell_type": "code",
      "source": [
        "import matplotlib.pyplot as plt\n",
        "import numpy as np\n",
        "\n",
        "%matplotlib inline\n",
        "\n",
        "sns.heatmap(cm/np.sum(cm), annot=True,\n",
        "            fmt='.2%', cmap='Blues', annot_kws={\"fontsize\":16})\n",
        "sns.set(font_scale=1.4)\n",
        "\n",
        "# Save the image to a file\n",
        "plt.savefig('CNN-BiLSTM-BiLSTM.pdf')\n",
        "plt.show()\n",
        "\n",
        "# Download the image file\n",
        "from google.colab import files\n",
        "files.download('CNN-BiLSTM-BiLSTM.pdf')"
      ],
      "metadata": {
        "id": "PrSG2-6cZQlm",
        "colab": {
          "base_uri": "https://localhost:8080/",
          "height": 273
        },
        "outputId": "cadedf79-11ff-4c3a-8e93-b776cb75917a"
      },
      "execution_count": null,
      "outputs": [
        {
          "output_type": "display_data",
          "data": {
            "text/plain": [
              "<Figure size 432x288 with 2 Axes>"
            ],
            "image/png": "[encoded data removed]"
          },
          "metadata": {
            "needs_background": "light"
          }
        },
        {
          "output_type": "display_data",
          "data": {
            "text/plain": [
              "<IPython.core.display.Javascript object>"
            ],
            "application/javascript": [
              "\n",
              "    async function download(id, filename, size) {\n",
              "      if (!google.colab.kernel.accessAllowed) {\n",
              "        return;\n",
              "      }\n",
              "      const div = document.createElement('div');\n",
              "      const label = document.createElement('label');\n",
              "      label.textContent = `Downloading \"${filename}\": `;\n",
              "      div.appendChild(label);\n",
              "      const progress = document.createElement('progress');\n",
              "      progress.max = size;\n",
              "      div.appendChild(progress);\n",
              "      document.body.appendChild(div);\n",
              "\n",
              "      const buffers = [];\n",
              "      let downloaded = 0;\n",
              "\n",
              "      const channel = await google.colab.kernel.comms.open(id);\n",
              "      // Send a message to notify the kernel that we're ready.\n",
              "      channel.send({})\n",
              "\n",
              "      for await (const message of channel.messages) {\n",
              "        // Send a message to notify the kernel that we're ready.\n",
              "        channel.send({})\n",
              "        if (message.buffers) {\n",
              "          for (const buffer of message.buffers) {\n",
              "            buffers.push(buffer);\n",
              "            downloaded += buffer.byteLength;\n",
              "            progress.value = downloaded;\n",
              "          }\n",
              "        }\n",
              "      }\n",
              "      const blob = new Blob(buffers, {type: 'application/binary'});\n",
              "      const a = document.createElement('a');\n",
              "      a.href = window.URL.createObjectURL(blob);\n",
              "      a.download = filename;\n",
              "      div.appendChild(a);\n",
              "      a.click();\n",
              "      div.remove();\n",
              "    }\n",
              "  "
            ]
          },
          "metadata": {}
        },
        {
          "output_type": "display_data",
          "data": {
            "text/plain": [
              "<IPython.core.display.Javascript object>"
            ],
            "application/javascript": [
              "download(\"download_e708d706-be79-4bbb-ba98-bb961f65aabb\", \"CNN-BiLSTM-BiLSTM.pdf\", 8281)"
            ]
          },
          "metadata": {}
        }
      ]
    }
  ]
}